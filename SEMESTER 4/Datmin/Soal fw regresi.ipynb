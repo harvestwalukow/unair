{
 "cells": [
  {
   "cell_type": "markdown",
   "metadata": {},
   "source": [
    "Sebuah ANN sederhana digunakan untuk memprediksi nilai skor suatu sistem berdasarkan 3 fitur masukan. Sistem ini memiliki arsitektur sebagai berikut:\n",
    "\n",
    "    1. Input layer: 3 neuron (X = np.array([1.0, 2.0, -1.0]))\n",
    "\n",
    "    2. Hidden layer: 4 neuron dengan aktivasi ReLU\n",
    "\n",
    "    3. Output layer: 1 neuron dengan aktivasi linear (tanpa aktivasi)\n",
    "\n",
    "    4. Target Output (y_true) = 3.5\n",
    "\n",
    "    5. Learning rate = 0.1\n",
    "\n",
    "Bobot dan bias diinisialisasi secara acak (jangan lupa gunakan seed). Target output berupa nilai kontinu (float). Fungsi loss yang digunakan adalah Mean Squared Error (MSE) dan dihitung diluar fungsi forward_pass()."
   ]
  },
  {
   "cell_type": "code",
   "execution_count": 9,
   "metadata": {},
   "outputs": [],
   "source": [
    "import numpy as np\n",
    "\n",
    "def relu(x):\n",
    "    return np.maximum(0, x)\n",
    "\n",
    "def mean_squared_error(y_pred, y_true):\n",
    "    return 0.5 * (y_pred - y_true) ** 2"
   ]
  },
  {
   "cell_type": "code",
   "execution_count": 145,
   "metadata": {},
   "outputs": [
    {
     "name": "stdout",
     "output_type": "stream",
     "text": [
      "Predicted output: 3.6916623809877023\n",
      "Loss: 0.018367234142937568\n"
     ]
    }
   ],
   "source": [
    "np.random.seed(100)\n",
    "X = np.array([1.0, 2.0, -1.0])\n",
    "y_true = 3.5\n",
    "learning_rate = 0.1\n",
    "W1 = np.random.randn(4, 3) \n",
    "b1 = np.random.randn(4)\n",
    "W2 = np.random.randn(1, 4)\n",
    "b2 = np.random.randn(1) \n",
    "\n",
    "def forward_pass(X, W1, b1, W2, b2):\n",
    "    \"\"\"\n",
    "    Parameters:\n",
    "    X  : numpy array shape (3,)\n",
    "    W1 : numpy array shape (4, 3)\n",
    "    b1 : numpy array shape (4,)\n",
    "    W2 : numpy array shape (1, 4)\n",
    "    b2 : numpy array shape (1,)\n",
    "\n",
    "    Returns:\n",
    "    output : hasil akhir forward pass (float)\n",
    "    \"\"\"\n",
    "    hidden_layer = relu(np.dot(W1, X) + b1)\n",
    "    output = np.dot(W2, hidden_layer) + b2\n",
    "    \n",
    "    return output[0]\n",
    "\n",
    "y_pred = forward_pass(X, W1, b1, W2, b2)\n",
    "\n",
    "print(f\"Predicted output: {y_pred}\")\n",
    "print(f\"Loss: {mean_squared_error(y_pred, y_true)}\")"
   ]
  }
 ],
 "metadata": {
  "kernelspec": {
   "display_name": "Python 3",
   "language": "python",
   "name": "python3"
  },
  "language_info": {
   "codemirror_mode": {
    "name": "ipython",
    "version": 3
   },
   "file_extension": ".py",
   "mimetype": "text/x-python",
   "name": "python",
   "nbconvert_exporter": "python",
   "pygments_lexer": "ipython3",
   "version": "3.12.10"
  }
 },
 "nbformat": 4,
 "nbformat_minor": 2
}
