{
 "cells": [
  {
   "cell_type": "code",
   "execution_count": 1,
   "metadata": {},
   "outputs": [],
   "source": [
    "import numpy as np\n",
    "import pandas as pd\n",
    "from collections import defaultdict"
   ]
  },
  {
   "cell_type": "code",
   "execution_count": 3,
   "metadata": {},
   "outputs": [],
   "source": [
    "# Load dataset\n",
    "df = pd.read_csv('carEvaluation.csv')\n",
    "\n",
    "# Mapping kategori ke angka\n",
    "mappings = {}\n",
    "for column in df.columns:\n",
    "    unique_vals = df[column].unique()\n",
    "    mappings[column] = {val: i for i, val in enumerate(unique_vals)}\n",
    "    df[column] = df[column].map(mappings[column])\n",
    "\n",
    "# Pisahkan fitur dan label\n",
    "X = df.iloc[:, :-1].values \n",
    "y = df.iloc[:, -1].values\n",
    "\n",
    "# Split data (80% train, 20% test)\n",
    "split_idx = int(0.8 * len(df))\n",
    "X_train, X_test = X[:split_idx], X[split_idx:]\n",
    "y_train, y_test = y[:split_idx], y[split_idx:]\n"
   ]
  },
  {
   "cell_type": "code",
   "execution_count": 4,
   "metadata": {},
   "outputs": [],
   "source": [
    "# Naïve Bayes Classifier\n",
    "class NaiveBayes:\n",
    "    def __init__(self):\n",
    "        self.class_probs = {}  # Probabilitas setiap kelas\n",
    "        self.feature_probs = defaultdict(lambda: defaultdict(lambda: defaultdict(float)))  # Probabilitas fitur\n",
    "    \n",
    "    def fit(self, X, y):\n",
    "        n_samples, n_features = X.shape\n",
    "        unique_classes, class_counts = np.unique(y, return_counts=True)\n",
    "        \n",
    "        # Hitung probabilitas prior P(C)\n",
    "        for cls, count in zip(unique_classes, class_counts):\n",
    "            self.class_probs[cls] = count / n_samples\n",
    "        \n",
    "        # Hitung probabilitas kondisional P(X|C)\n",
    "        for cls in unique_classes:\n",
    "            X_cls = X[y == cls]  # Ambil hanya data dengan kelas tertentu\n",
    "            for feature_idx in range(n_features):\n",
    "                feature_vals, feature_counts = np.unique(X_cls[:, feature_idx], return_counts=True)\n",
    "                total_count = len(X_cls)\n",
    "                for val, count in zip(feature_vals, feature_counts):\n",
    "                    self.feature_probs[cls][feature_idx][val] = count / total_count\n",
    "\n",
    "    def predict(self, X):\n",
    "        predictions = []\n",
    "        for x in X:\n",
    "            class_scores = {}\n",
    "            for cls in self.class_probs:\n",
    "                class_scores[cls] = np.log(self.class_probs[cls])  # Gunakan log untuk menghindari underflow\n",
    "                for feature_idx, feature_val in enumerate(x):\n",
    "                    if feature_val in self.feature_probs[cls][feature_idx]:\n",
    "                        class_scores[cls] += np.log(self.feature_probs[cls][feature_idx][feature_val])\n",
    "                    else:\n",
    "                        class_scores[cls] += np.log(1e-6)  # Probabilitas kecil jika tidak ditemukan\n",
    "            \n",
    "            predictions.append(max(class_scores, key=class_scores.get))  # Pilih kelas dengan skor tertinggi\n",
    "        return np.array(predictions)"
   ]
  },
  {
   "cell_type": "code",
   "execution_count": 6,
   "metadata": {},
   "outputs": [
    {
     "name": "stdout",
     "output_type": "stream",
     "text": [
      "Akurasi Naive Bayes: 67.63005780346822 %\n"
     ]
    }
   ],
   "source": [
    "# Training model\n",
    "nb_model = NaiveBayes()\n",
    "nb_model.fit(X_train, y_train)\n",
    "\n",
    "# Prediksi data uji\n",
    "y_pred = nb_model.predict(X_test)\n",
    "\n",
    "# Evaluasi akurasi\n",
    "accuracy = (y_pred == y_test).mean() * 100\n",
    "print(\"Akurasi Naive Bayes:\", accuracy, \"%\")"
   ]
  }
 ],
 "metadata": {
  "kernelspec": {
   "display_name": "Python 3",
   "language": "python",
   "name": "python3"
  },
  "language_info": {
   "codemirror_mode": {
    "name": "ipython",
    "version": 3
   },
   "file_extension": ".py",
   "mimetype": "text/x-python",
   "name": "python",
   "nbconvert_exporter": "python",
   "pygments_lexer": "ipython3",
   "version": "3.13.2"
  }
 },
 "nbformat": 4,
 "nbformat_minor": 2
}
