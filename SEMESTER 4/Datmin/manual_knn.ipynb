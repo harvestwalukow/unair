{
 "cells": [
  {
   "cell_type": "markdown",
   "metadata": {},
   "source": [
    "# KNN\n",
    "Harvest Walukow 164231104"
   ]
  },
  {
   "cell_type": "code",
   "execution_count": 1,
   "metadata": {},
   "outputs": [],
   "source": [
    "import pandas as pd\n",
    "import numpy as np\n",
    "from collections import Counter"
   ]
  },
  {
   "cell_type": "code",
   "execution_count": 2,
   "metadata": {},
   "outputs": [],
   "source": [
    "from sklearn.neighbors import KNeighborsClassifier\n",
    "from sklearn.metrics import accuracy_score"
   ]
  },
  {
   "cell_type": "code",
   "execution_count": 3,
   "metadata": {},
   "outputs": [],
   "source": [
    "# Load data\n",
    "train_data = pd.read_csv('train_rgb_dataset.csv')\n",
    "test_data = pd.read_csv('test_rgb_dataset.csv')"
   ]
  },
  {
   "cell_type": "code",
   "execution_count": 4,
   "metadata": {},
   "outputs": [],
   "source": [
    "# Feature dan target\n",
    "X_train = train_data[['R', 'G', 'B']].values\n",
    "y_train = train_data['RASA'].values\n",
    "X_test = test_data[['R', 'G', 'B']].values\n",
    "y_test = test_data['RASA'].values"
   ]
  },
  {
   "cell_type": "markdown",
   "metadata": {},
   "source": [
    "## Manual"
   ]
  },
  {
   "cell_type": "code",
   "execution_count": 5,
   "metadata": {},
   "outputs": [],
   "source": [
    "# Fungsi euclidean distance\n",
    "def euclidean_distance(x1, x2):\n",
    "    return np.sqrt(np.sum((x1 - x2) ** 2))"
   ]
  },
  {
   "cell_type": "code",
   "execution_count": 6,
   "metadata": {},
   "outputs": [],
   "source": [
    "# Fungsi KNN\n",
    "def knn_predict(X_train, y_train, X_test, k=3):\n",
    "    predictions = []\n",
    "    \n",
    "    for test_point in X_test:\n",
    "        # Hitung euclidean distance\n",
    "        distances = [euclidean_distance(test_point, train_point) for train_point in X_train]\n",
    "        \n",
    "        k_indices = np.argsort(distances)[:k]\n",
    "        k_nearest_labels = [y_train[i] for i in k_indices]\n",
    "        \n",
    "        # Ambil label mayoritas\n",
    "        most_common = Counter(k_nearest_labels).most_common(1)\n",
    "        predictions.append(most_common[0][0])\n",
    "    \n",
    "    return predictions"
   ]
  },
  {
   "cell_type": "code",
   "execution_count": 7,
   "metadata": {},
   "outputs": [],
   "source": [
    "# Membuat prediksi dengan k=3\n",
    "predictions_manual = knn_predict(X_train, y_train, X_test, k=3)\n"
   ]
  },
  {
   "cell_type": "code",
   "execution_count": 8,
   "metadata": {},
   "outputs": [
    {
     "name": "stdout",
     "output_type": "stream",
     "text": [
      "Akurasi: 93.33%\n"
     ]
    }
   ],
   "source": [
    "# Menghitung akurasi\n",
    "accuracy_manual = np.mean(predictions_manual == y_test) * 100\n",
    "print(f\"Akurasi: {accuracy_manual:.2f}%\") \n"
   ]
  },
  {
   "cell_type": "code",
   "execution_count": 9,
   "metadata": {},
   "outputs": [
    {
     "data": {
      "text/html": [
       "<div>\n",
       "<style scoped>\n",
       "    .dataframe tbody tr th:only-of-type {\n",
       "        vertical-align: middle;\n",
       "    }\n",
       "\n",
       "    .dataframe tbody tr th {\n",
       "        vertical-align: top;\n",
       "    }\n",
       "\n",
       "    .dataframe thead th {\n",
       "        text-align: right;\n",
       "    }\n",
       "</style>\n",
       "<table border=\"1\" class=\"dataframe\">\n",
       "  <thead>\n",
       "    <tr style=\"text-align: right;\">\n",
       "      <th></th>\n",
       "      <th>Sampel</th>\n",
       "      <th>Prediksi</th>\n",
       "      <th>Aktual</th>\n",
       "    </tr>\n",
       "  </thead>\n",
       "  <tbody>\n",
       "    <tr>\n",
       "      <th>0</th>\n",
       "      <td>1</td>\n",
       "      <td>Asam</td>\n",
       "      <td>Manis</td>\n",
       "    </tr>\n",
       "    <tr>\n",
       "      <th>1</th>\n",
       "      <td>2</td>\n",
       "      <td>Manis</td>\n",
       "      <td>Manis</td>\n",
       "    </tr>\n",
       "    <tr>\n",
       "      <th>2</th>\n",
       "      <td>3</td>\n",
       "      <td>Manis</td>\n",
       "      <td>Manis</td>\n",
       "    </tr>\n",
       "    <tr>\n",
       "      <th>3</th>\n",
       "      <td>4</td>\n",
       "      <td>Manis</td>\n",
       "      <td>Manis</td>\n",
       "    </tr>\n",
       "    <tr>\n",
       "      <th>4</th>\n",
       "      <td>5</td>\n",
       "      <td>Manis</td>\n",
       "      <td>Manis</td>\n",
       "    </tr>\n",
       "    <tr>\n",
       "      <th>5</th>\n",
       "      <td>6</td>\n",
       "      <td>Asam</td>\n",
       "      <td>Asam</td>\n",
       "    </tr>\n",
       "    <tr>\n",
       "      <th>6</th>\n",
       "      <td>7</td>\n",
       "      <td>Asam</td>\n",
       "      <td>Asam</td>\n",
       "    </tr>\n",
       "    <tr>\n",
       "      <th>7</th>\n",
       "      <td>8</td>\n",
       "      <td>Asam</td>\n",
       "      <td>Asam</td>\n",
       "    </tr>\n",
       "    <tr>\n",
       "      <th>8</th>\n",
       "      <td>9</td>\n",
       "      <td>Asam</td>\n",
       "      <td>Asam</td>\n",
       "    </tr>\n",
       "    <tr>\n",
       "      <th>9</th>\n",
       "      <td>10</td>\n",
       "      <td>Asam</td>\n",
       "      <td>Asam</td>\n",
       "    </tr>\n",
       "    <tr>\n",
       "      <th>10</th>\n",
       "      <td>11</td>\n",
       "      <td>Tawar</td>\n",
       "      <td>Tawar</td>\n",
       "    </tr>\n",
       "    <tr>\n",
       "      <th>11</th>\n",
       "      <td>12</td>\n",
       "      <td>Tawar</td>\n",
       "      <td>Tawar</td>\n",
       "    </tr>\n",
       "    <tr>\n",
       "      <th>12</th>\n",
       "      <td>13</td>\n",
       "      <td>Tawar</td>\n",
       "      <td>Tawar</td>\n",
       "    </tr>\n",
       "    <tr>\n",
       "      <th>13</th>\n",
       "      <td>14</td>\n",
       "      <td>Tawar</td>\n",
       "      <td>Tawar</td>\n",
       "    </tr>\n",
       "    <tr>\n",
       "      <th>14</th>\n",
       "      <td>15</td>\n",
       "      <td>Tawar</td>\n",
       "      <td>Tawar</td>\n",
       "    </tr>\n",
       "  </tbody>\n",
       "</table>\n",
       "</div>"
      ],
      "text/plain": [
       "    Sampel Prediksi Aktual\n",
       "0        1     Asam  Manis\n",
       "1        2    Manis  Manis\n",
       "2        3    Manis  Manis\n",
       "3        4    Manis  Manis\n",
       "4        5    Manis  Manis\n",
       "5        6     Asam   Asam\n",
       "6        7     Asam   Asam\n",
       "7        8     Asam   Asam\n",
       "8        9     Asam   Asam\n",
       "9       10     Asam   Asam\n",
       "10      11    Tawar  Tawar\n",
       "11      12    Tawar  Tawar\n",
       "12      13    Tawar  Tawar\n",
       "13      14    Tawar  Tawar\n",
       "14      15    Tawar  Tawar"
      ]
     },
     "execution_count": 9,
     "metadata": {},
     "output_type": "execute_result"
    }
   ],
   "source": [
    "# Hasil\n",
    "pd.DataFrame({\n",
    "    \"Sampel\": range(1, len(predictions_manual) + 1),\n",
    "    \"Prediksi\": predictions_manual,\n",
    "    \"Aktual\": y_test\n",
    "})"
   ]
  },
  {
   "cell_type": "markdown",
   "metadata": {},
   "source": [
    "## SKLEARN"
   ]
  },
  {
   "cell_type": "code",
   "execution_count": 10,
   "metadata": {},
   "outputs": [
    {
     "name": "stdout",
     "output_type": "stream",
     "text": [
      "Accuracy: 93.33%\n"
     ]
    }
   ],
   "source": [
    "# Buat KNN\n",
    "k = 3\n",
    "knn = KNeighborsClassifier(n_neighbors=k)\n",
    "knn.fit(X_train, y_train)\n",
    "\n",
    "# Buat prediksi\n",
    "predictions_sklearn = knn.predict(X_test)\n",
    "\n",
    "# Hitung akurasi\n",
    "accuracy_sklearn = accuracy_score(y_test, predictions_sklearn) * 100\n",
    "print(f\"Accuracy: {accuracy_sklearn:.2f}%\")"
   ]
  },
  {
   "cell_type": "code",
   "execution_count": 11,
   "metadata": {},
   "outputs": [
    {
     "data": {
      "text/html": [
       "<div>\n",
       "<style scoped>\n",
       "    .dataframe tbody tr th:only-of-type {\n",
       "        vertical-align: middle;\n",
       "    }\n",
       "\n",
       "    .dataframe tbody tr th {\n",
       "        vertical-align: top;\n",
       "    }\n",
       "\n",
       "    .dataframe thead th {\n",
       "        text-align: right;\n",
       "    }\n",
       "</style>\n",
       "<table border=\"1\" class=\"dataframe\">\n",
       "  <thead>\n",
       "    <tr style=\"text-align: right;\">\n",
       "      <th></th>\n",
       "      <th>Sampel</th>\n",
       "      <th>Prediksi</th>\n",
       "      <th>Aktual</th>\n",
       "    </tr>\n",
       "  </thead>\n",
       "  <tbody>\n",
       "    <tr>\n",
       "      <th>0</th>\n",
       "      <td>1</td>\n",
       "      <td>Asam</td>\n",
       "      <td>Manis</td>\n",
       "    </tr>\n",
       "    <tr>\n",
       "      <th>1</th>\n",
       "      <td>2</td>\n",
       "      <td>Manis</td>\n",
       "      <td>Manis</td>\n",
       "    </tr>\n",
       "    <tr>\n",
       "      <th>2</th>\n",
       "      <td>3</td>\n",
       "      <td>Manis</td>\n",
       "      <td>Manis</td>\n",
       "    </tr>\n",
       "    <tr>\n",
       "      <th>3</th>\n",
       "      <td>4</td>\n",
       "      <td>Manis</td>\n",
       "      <td>Manis</td>\n",
       "    </tr>\n",
       "    <tr>\n",
       "      <th>4</th>\n",
       "      <td>5</td>\n",
       "      <td>Manis</td>\n",
       "      <td>Manis</td>\n",
       "    </tr>\n",
       "    <tr>\n",
       "      <th>5</th>\n",
       "      <td>6</td>\n",
       "      <td>Asam</td>\n",
       "      <td>Asam</td>\n",
       "    </tr>\n",
       "    <tr>\n",
       "      <th>6</th>\n",
       "      <td>7</td>\n",
       "      <td>Asam</td>\n",
       "      <td>Asam</td>\n",
       "    </tr>\n",
       "    <tr>\n",
       "      <th>7</th>\n",
       "      <td>8</td>\n",
       "      <td>Asam</td>\n",
       "      <td>Asam</td>\n",
       "    </tr>\n",
       "    <tr>\n",
       "      <th>8</th>\n",
       "      <td>9</td>\n",
       "      <td>Asam</td>\n",
       "      <td>Asam</td>\n",
       "    </tr>\n",
       "    <tr>\n",
       "      <th>9</th>\n",
       "      <td>10</td>\n",
       "      <td>Asam</td>\n",
       "      <td>Asam</td>\n",
       "    </tr>\n",
       "    <tr>\n",
       "      <th>10</th>\n",
       "      <td>11</td>\n",
       "      <td>Tawar</td>\n",
       "      <td>Tawar</td>\n",
       "    </tr>\n",
       "    <tr>\n",
       "      <th>11</th>\n",
       "      <td>12</td>\n",
       "      <td>Tawar</td>\n",
       "      <td>Tawar</td>\n",
       "    </tr>\n",
       "    <tr>\n",
       "      <th>12</th>\n",
       "      <td>13</td>\n",
       "      <td>Tawar</td>\n",
       "      <td>Tawar</td>\n",
       "    </tr>\n",
       "    <tr>\n",
       "      <th>13</th>\n",
       "      <td>14</td>\n",
       "      <td>Tawar</td>\n",
       "      <td>Tawar</td>\n",
       "    </tr>\n",
       "    <tr>\n",
       "      <th>14</th>\n",
       "      <td>15</td>\n",
       "      <td>Tawar</td>\n",
       "      <td>Tawar</td>\n",
       "    </tr>\n",
       "  </tbody>\n",
       "</table>\n",
       "</div>"
      ],
      "text/plain": [
       "    Sampel Prediksi Aktual\n",
       "0        1     Asam  Manis\n",
       "1        2    Manis  Manis\n",
       "2        3    Manis  Manis\n",
       "3        4    Manis  Manis\n",
       "4        5    Manis  Manis\n",
       "5        6     Asam   Asam\n",
       "6        7     Asam   Asam\n",
       "7        8     Asam   Asam\n",
       "8        9     Asam   Asam\n",
       "9       10     Asam   Asam\n",
       "10      11    Tawar  Tawar\n",
       "11      12    Tawar  Tawar\n",
       "12      13    Tawar  Tawar\n",
       "13      14    Tawar  Tawar\n",
       "14      15    Tawar  Tawar"
      ]
     },
     "execution_count": 11,
     "metadata": {},
     "output_type": "execute_result"
    }
   ],
   "source": [
    "# Hasil\n",
    "pd.DataFrame({\n",
    "    \"Sampel\": range(1, len(predictions_sklearn) + 1),\n",
    "    \"Prediksi\": predictions_sklearn,\n",
    "    \"Aktual\": y_test\n",
    "})"
   ]
  }
 ],
 "metadata": {
  "kernelspec": {
   "display_name": "Python 3",
   "language": "python",
   "name": "python3"
  },
  "language_info": {
   "codemirror_mode": {
    "name": "ipython",
    "version": 3
   },
   "file_extension": ".py",
   "mimetype": "text/x-python",
   "name": "python",
   "nbconvert_exporter": "python",
   "pygments_lexer": "ipython3",
   "version": "3.12.9"
  }
 },
 "nbformat": 4,
 "nbformat_minor": 2
}
