{
  "cells": [
    {
      "cell_type": "code",
      "execution_count": null,
      "metadata": {},
      "outputs": [],
      "source": [
        "# Import library yang diperlukan\n",
        "import pandas as pd\n",
        "import numpy as np\n",
        "from sklearn.model_selection import train_test_split\n",
        "from sklearn.feature_extraction.text import TfidfVectorizer\n",
        "from sklearn.naive_bayes import MultinomialNB\n",
        "from sklearn import metrics\n",
        "\n",
        "# Load dataset\n",
        "df = pd.read_csv('text.csv')\n",
        "\n",
        "# Preprocessing sederhana\n",
        "def clean_text(text):\n",
        "    text = text.lower()\n",
        "    text = re.sub(r'[^a-zA-Z\\s]', '', text)\n",
        "    return text\n",
        "\n",
        "import re\n",
        "df['cleaned_message'] = df['Message'].apply(clean_text)\n",
        "\n",
        "# Split data\n",
        "X = df['cleaned_message']\n",
        "y = df['Category']\n",
        "X_train, X_test, train_y, test_y = train_test_split(X, y, test_size=0.2, random_state=42, stratify=y)\n",
        "\n",
        "# Vectorization\n",
        "tfidf_vectorizer = TfidfVectorizer(max_features=5000, stop_words='english')\n",
        "X_train_tf = tfidf_vectorizer.fit_transform(X_train)\n",
        "X_test_tf = tfidf_vectorizer.transform(X_test)\n",
        "\n",
        "# Training dan prediksi\n",
        "naive_bayes_classifier = MultinomialNB()\n",
        "naive_bayes_classifier.fit(X_train_tf, train_y)\n",
        "y_pred = naive_bayes_classifier.predict(X_test_tf)\n",
        "\n",
        "print(metrics.classification_report(test_y, y_pred))\n"
      ]
    },
    {
      "cell_type": "markdown",
      "metadata": {},
      "source": [
        "# Text Classification dengan Naive Bayes\n",
        "\n",
        "Notebook ini melakukan klasifikasi teks SMS spam/ham menggunakan algoritma Naive Bayes Multinomial dari scikit-learn.\n",
        "\n",
        "## Dataset\n",
        "- **File**: text.csv\n",
        "- **Kolom**: Category (ham/spam), Message (teks SMS)\n",
        "- **Tujuan**: Mengklasifikasikan SMS sebagai spam atau ham (bukan spam)\n"
      ]
    },
    {
      "cell_type": "code",
      "execution_count": 1,
      "metadata": {},
      "outputs": [],
      "source": [
        "# Import library yang diperlukan\n",
        "import pandas as pd\n",
        "import numpy as np\n",
        "import matplotlib.pyplot as plt\n",
        "import seaborn as sns\n",
        "from sklearn.model_selection import train_test_split\n",
        "from sklearn.feature_extraction.text import TfidfVectorizer, CountVectorizer\n",
        "from sklearn.naive_bayes import MultinomialNB\n",
        "from sklearn import metrics\n",
        "from sklearn.metrics import classification_report, confusion_matrix, accuracy_score\n",
        "import re\n",
        "import string\n",
        "import warnings\n",
        "warnings.filterwarnings('ignore')\n",
        "\n",
        "# Set style untuk plotting\n",
        "plt.style.use('seaborn-v0_8')\n",
        "sns.set_palette(\"husl\")\n"
      ]
    },
    {
      "cell_type": "markdown",
      "metadata": {},
      "source": [
        "## 1. Load dan Eksplorasi Data\n"
      ]
    },
    {
      "cell_type": "code",
      "execution_count": 2,
      "metadata": {},
      "outputs": [
        {
          "name": "stdout",
          "output_type": "stream",
          "text": [
            "=== INFORMASI DATASET ===\n",
            "Shape dataset: (5572, 2)\n",
            "Kolom: ['Category', 'Message']\n",
            "\n",
            "=== PREVIEW DATA ===\n",
            "  Category                                            Message\n",
            "0      ham  Go until jurong point, crazy.. Available only ...\n",
            "1      ham                      Ok lar... Joking wif u oni...\n",
            "2     spam  Free entry in 2 a wkly comp to win FA Cup fina...\n",
            "3      ham  U dun say so early hor... U c already then say...\n",
            "4      ham  Nah I don't think he goes to usf, he lives aro...\n",
            "\n",
            "=== INFORMASI STATISTIK ===\n",
            "<class 'pandas.core.frame.DataFrame'>\n",
            "RangeIndex: 5572 entries, 0 to 5571\n",
            "Data columns (total 2 columns):\n",
            " #   Column    Non-Null Count  Dtype \n",
            "---  ------    --------------  ----- \n",
            " 0   Category  5572 non-null   object\n",
            " 1   Message   5572 non-null   object\n",
            "dtypes: object(2)\n",
            "memory usage: 87.2+ KB\n",
            "None\n",
            "\n",
            "=== DISTRIBUSI KATEGORI ===\n",
            "Category\n",
            "ham     4825\n",
            "spam     747\n",
            "Name: count, dtype: int64\n",
            "\n"
          ]
        },
        {
          "data": {
            "image/png": "[encoded data removed]",
            "text/plain": [
              "<Figure size 800x600 with 1 Axes>"
            ]
          },
          "metadata": {},
          "output_type": "display_data"
        }
      ],
      "source": [
        "# Load dataset\n",
        "df = pd.read_csv('text.csv')\n",
        "\n",
        "# Tampilkan informasi dataset\n",
        "print(\"=== INFORMASI DATASET ===\")\n",
        "print(f\"Shape dataset: {df.shape}\")\n",
        "print(f\"Kolom: {list(df.columns)}\")\n",
        "print()\n",
        "\n",
        "print(\"=== PREVIEW DATA ===\")\n",
        "print(df.head())\n",
        "print()\n",
        "\n",
        "print(\"=== INFORMASI STATISTIK ===\")\n",
        "print(df.info())\n",
        "print()\n",
        "\n",
        "print(\"=== DISTRIBUSI KATEGORI ===\")\n",
        "print(df['Category'].value_counts())\n",
        "print()\n",
        "\n",
        "# Visualisasi distribusi kategori\n",
        "plt.figure(figsize=(8, 6))\n",
        "category_counts = df['Category'].value_counts()\n",
        "plt.pie(category_counts.values, labels=category_counts.index, autopct='%1.1f%%', startangle=90)\n",
        "plt.title('Distribusi Kategori SMS')\n",
        "plt.axis('equal')\n",
        "plt.show()\n"
      ]
    },
    {
      "cell_type": "markdown",
      "metadata": {},
      "source": [
        "\n"
      ]
    },
    {
      "cell_type": "code",
      "execution_count": 3,
      "metadata": {},
      "outputs": [
        {
          "name": "stdout",
          "output_type": "stream",
          "text": [
            "=== CONTOH PREPROCESSING ===\n",
            "Sebelum cleaning: Go until jurong point, crazy.. Available only in bugis n great world la e buffet... Cine there got amore wat...\n",
            "Sesudah cleaning: go until jurong point crazy available only in bugis n great world la e buffet cine there got amore wat\n",
            "\n",
            "Sedang membersihkan data...\n",
            "=== STATISTIK PANJANG TEKS ===\n",
            "count    5572.000000\n",
            "mean       72.921213\n",
            "std        54.251005\n",
            "min         0.000000\n",
            "25%        33.000000\n",
            "50%        57.000000\n",
            "75%       109.000000\n",
            "max       888.000000\n",
            "Name: text_length, dtype: float64\n",
            "\n"
          ]
        },
        {
          "data": {
            "image/png": "[encoded data removed]",
            "text/plain": [
              "<Figure size 1200x500 with 2 Axes>"
            ]
          },
          "metadata": {},
          "output_type": "display_data"
        }
      ],
      "source": [
        "# Fungsi untuk membersihkan teks\n",
        "def clean_text(text):\n",
        "    \"\"\"\n",
        "    Membersihkan teks SMS dengan menghapus karakter yang tidak diperlukan\n",
        "    \"\"\"\n",
        "    # Konversi ke lowercase\n",
        "    text = text.lower()\n",
        "    \n",
        "    # Hapus karakter khusus dan angka\n",
        "    text = re.sub(r'[^a-zA-Z\\s]', '', text)\n",
        "    \n",
        "    # Hapus whitespace berlebih\n",
        "    text = re.sub(r'\\s+', ' ', text).strip()\n",
        "    \n",
        "    return text\n",
        "\n",
        "# Contoh sebelum dan sesudah cleaning\n",
        "print(\"=== CONTOH PREPROCESSING ===\")\n",
        "sample_text = df['Message'].iloc[0]\n",
        "print(f\"Sebelum cleaning: {sample_text}\")\n",
        "print(f\"Sesudah cleaning: {clean_text(sample_text)}\")\n",
        "print()\n",
        "\n",
        "# Terapkan cleaning ke semua data\n",
        "print(\"Sedang membersihkan data...\")\n",
        "df['cleaned_message'] = df['Message'].apply(clean_text)\n",
        "\n",
        "print(\"=== STATISTIK PANJANG TEKS ===\")\n",
        "df['text_length'] = df['cleaned_message'].apply(len)\n",
        "print(df['text_length'].describe())\n",
        "print()\n",
        "\n",
        "# Visualisasi panjang teks per kategori\n",
        "plt.figure(figsize=(12, 5))\n",
        "\n",
        "plt.subplot(1, 2, 1)\n",
        "df[df['Category'] == 'ham']['text_length'].hist(alpha=0.7, label='Ham', bins=30)\n",
        "df[df['Category'] == 'spam']['text_length'].hist(alpha=0.7, label='Spam', bins=30)\n",
        "plt.xlabel('Panjang Teks')\n",
        "plt.ylabel('Frekuensi')\n",
        "plt.title('Distribusi Panjang Teks per Kategori')\n",
        "plt.legend()\n",
        "\n",
        "plt.subplot(1, 2, 2)\n",
        "df.boxplot(column='text_length', by='Category', ax=plt.gca())\n",
        "plt.title('Boxplot Panjang Teks per Kategori')\n",
        "plt.suptitle('')  # Remove default title\n",
        "\n",
        "plt.tight_layout()\n",
        "plt.show()\n"
      ]
    },
    {
      "cell_type": "markdown",
      "metadata": {},
      "source": [
        "## 3. Pembagian Data Train dan Test\n"
      ]
    },
    {
      "cell_type": "code",
      "execution_count": 4,
      "metadata": {},
      "outputs": [
        {
          "name": "stdout",
          "output_type": "stream",
          "text": [
            "=== PEMBAGIAN DATA ===\n",
            "Total data: 5572\n",
            "Kategori target: ['ham' 'spam']\n",
            "\n",
            "Data training: 4457 (80.0%)\n",
            "Data testing: 1115 (20.0%)\n",
            "\n",
            "=== DISTRIBUSI KATEGORI DI TRAIN SET ===\n",
            "Category\n",
            "ham     3859\n",
            "spam     598\n",
            "Name: count, dtype: int64\n",
            "\n",
            "=== DISTRIBUSI KATEGORI DI TEST SET ===\n",
            "Category\n",
            "ham     966\n",
            "spam    149\n",
            "Name: count, dtype: int64\n",
            "\n",
            "=== MAPPING LABEL ===\n",
            "ham -> 0\n",
            "spam -> 1\n",
            "\n",
            "Train set - ham: 3859, spam: 598\n",
            "Test set - ham: 966, spam: 149\n"
          ]
        }
      ],
      "source": [
        "# Persiapan data untuk training\n",
        "X = df['cleaned_message']  # Features (teks yang sudah dibersihkan)\n",
        "y = df['Category']         # Target (ham/spam)\n",
        "\n",
        "print(\"=== PEMBAGIAN DATA ===\")\n",
        "print(f\"Total data: {len(X)}\")\n",
        "print(f\"Kategori target: {y.unique()}\")\n",
        "print()\n",
        "\n",
        "# Split data menjadi train dan test set (80% train, 20% test)\n",
        "X_train, X_test, y_train, y_test = train_test_split(\n",
        "    X, y, \n",
        "    test_size=0.2, \n",
        "    random_state=42, \n",
        "    stratify=y  # Mempertahankan proporsi kelas\n",
        ")\n",
        "\n",
        "print(f\"Data training: {len(X_train)} ({len(X_train)/len(X)*100:.1f}%)\")\n",
        "print(f\"Data testing: {len(X_test)} ({len(X_test)/len(X)*100:.1f}%)\")\n",
        "print()\n",
        "\n",
        "print(\"=== DISTRIBUSI KATEGORI DI TRAIN SET ===\")\n",
        "print(y_train.value_counts())\n",
        "print()\n",
        "\n",
        "print(\"=== DISTRIBUSI KATEGORI DI TEST SET ===\")\n",
        "print(y_test.value_counts())\n",
        "print()\n",
        "\n",
        "# Konversi target ke numerik untuk kompatibilitas dengan sklearn\n",
        "# 0 = ham, 1 = spam\n",
        "label_mapping = {'ham': 0, 'spam': 1}\n",
        "y_train_numeric = y_train.map(label_mapping)\n",
        "y_test_numeric = y_test.map(label_mapping)\n",
        "\n",
        "print(\"=== MAPPING LABEL ===\")\n",
        "print(\"ham -> 0\")\n",
        "print(\"spam -> 1\")\n",
        "print()\n",
        "print(f\"Train set - ham: {sum(y_train_numeric == 0)}, spam: {sum(y_train_numeric == 1)}\")\n",
        "print(f\"Test set - ham: {sum(y_test_numeric == 0)}, spam: {sum(y_test_numeric == 1)}\")\n"
      ]
    },
    {
      "cell_type": "markdown",
      "metadata": {},
      "source": [
        "## 4. Vectorization (TF-IDF)\n"
      ]
    },
    {
      "cell_type": "code",
      "execution_count": 5,
      "metadata": {},
      "outputs": [
        {
          "name": "stdout",
          "output_type": "stream",
          "text": [
            "=== TF-IDF VECTORIZATION ===\n",
            "Sedang melakukan vectorization...\n",
            "Shape X_train_tf: (4457, 5000)\n",
            "Shape X_test_tf: (1115, 5000)\n",
            "Jumlah fitur (vocabulary): 5000\n",
            "\n",
            "=== CONTOH FITUR (KATA) TERPENTING ===\n",
            "10 fitur pertama: ['aah' 'aathiwhere' 'aathiwhere dear' 'ability' 'abiola' 'abj' 'able'\n",
            " 'able come' 'able deliver' 'abt']\n",
            "10 fitur terakhir: ['yuo exmpel' 'yuo raed' 'yup' 'yup im' 'yup lor' 'yup ok' 'yup thk' 'zed'\n",
            " 'zed logopic' 'zed profit']\n",
            "\n",
            "Sparsity train set: 99.84%\n",
            "Sparsity test set: 99.86%\n"
          ]
        }
      ],
      "source": [
        "# Menggunakan TF-IDF Vectorizer untuk mengubah teks menjadi vektor numerik\n",
        "print(\"=== TF-IDF VECTORIZATION ===\")\n",
        "\n",
        "# Inisialisasi TF-IDF Vectorizer\n",
        "tfidf_vectorizer = TfidfVectorizer(\n",
        "    max_features=5000,        # Maksimal 5000 fitur (kata yang paling penting)\n",
        "    stop_words='english',     # Hapus stop words bahasa Inggris\n",
        "    ngram_range=(1, 2),       # Gunakan unigram dan bigram\n",
        "    min_df=2,                 # Kata harus muncul minimal 2 kali\n",
        "    max_df=0.95               # Kata tidak boleh muncul di lebih dari 95% dokumen\n",
        ")\n",
        "\n",
        "print(\"Sedang melakukan vectorization...\")\n",
        "\n",
        "# Fit dan transform data training\n",
        "X_train_tf = tfidf_vectorizer.fit_transform(X_train)\n",
        "\n",
        "# Transform data testing (hanya transform, tidak fit)\n",
        "X_test_tf = tfidf_vectorizer.transform(X_test)\n",
        "\n",
        "print(f\"Shape X_train_tf: {X_train_tf.shape}\")\n",
        "print(f\"Shape X_test_tf: {X_test_tf.shape}\")\n",
        "print(f\"Jumlah fitur (vocabulary): {len(tfidf_vectorizer.get_feature_names_out())}\")\n",
        "print()\n",
        "\n",
        "# Tampilkan beberapa fitur terpenting\n",
        "print(\"=== CONTOH FITUR (KATA) TERPENTING ===\")\n",
        "feature_names = tfidf_vectorizer.get_feature_names_out()\n",
        "print(f\"10 fitur pertama: {feature_names[:10]}\")\n",
        "print(f\"10 fitur terakhir: {feature_names[-10:]}\")\n",
        "print()\n",
        "\n",
        "# Cek sparsity matrix\n",
        "print(f\"Sparsity train set: {(1 - X_train_tf.nnz / (X_train_tf.shape[0] * X_train_tf.shape[1])) * 100:.2f}%\")\n",
        "print(f\"Sparsity test set: {(1 - X_test_tf.nnz / (X_test_tf.shape[0] * X_test_tf.shape[1])) * 100:.2f}%\")\n"
      ]
    },
    {
      "cell_type": "markdown",
      "metadata": {},
      "source": [
        "## 5. Training Model Naive Bayes\n"
      ]
    },
    {
      "cell_type": "code",
      "execution_count": 6,
      "metadata": {},
      "outputs": [
        {
          "name": "stdout",
          "output_type": "stream",
          "text": [
            "=== TRAINING NAIVE BAYES CLASSIFIER ===\n",
            "Sedang melakukan training...\n",
            "Training selesai!\n",
            "\n",
            "=== INFORMASI MODEL ===\n",
            "Kelas yang dipelajari: [0 1]\n",
            "Jumlah fitur yang digunakan: 5000\n",
            "Jumlah sampel per kelas: [3859.  598.]\n",
            "\n",
            "Prior probabilities:\n",
            "  ham: 0.8658\n",
            "  spam: 0.1342\n",
            "\n",
            "=== EVALUASI PADA TRAINING SET ===\n",
            "Training Accuracy: 0.9807 (98.07%)\n"
          ]
        }
      ],
      "source": [
        "# Inisialisasi dan training model Naive Bayes Multinomial\n",
        "print(\"=== TRAINING NAIVE BAYES CLASSIFIER ===\")\n",
        "\n",
        "# Buat instance classifier\n",
        "naive_bayes_classifier = MultinomialNB()\n",
        "\n",
        "# Training model\n",
        "print(\"Sedang melakukan training...\")\n",
        "naive_bayes_classifier.fit(X_train_tf, y_train_numeric)\n",
        "\n",
        "print(\"Training selesai!\")\n",
        "print()\n",
        "\n",
        "# Informasi tentang model yang sudah dilatih\n",
        "print(\"=== INFORMASI MODEL ===\")\n",
        "print(f\"Kelas yang dipelajari: {naive_bayes_classifier.classes_}\")\n",
        "print(f\"Jumlah fitur yang digunakan: {naive_bayes_classifier.feature_count_.shape[1]}\")\n",
        "print(f\"Jumlah sampel per kelas: {naive_bayes_classifier.class_count_}\")\n",
        "print()\n",
        "\n",
        "# Hitung prior probabilities\n",
        "prior_probs = naive_bayes_classifier.class_count_ / naive_bayes_classifier.class_count_.sum()\n",
        "print(\"Prior probabilities:\")\n",
        "for i, class_name in enumerate(['ham', 'spam']):\n",
        "    print(f\"  {class_name}: {prior_probs[i]:.4f}\")\n",
        "print()\n",
        "\n",
        "# Prediksi pada data training untuk melihat performa training\n",
        "print(\"=== EVALUASI PADA TRAINING SET ===\")\n",
        "y_train_pred = naive_bayes_classifier.predict(X_train_tf)\n",
        "train_accuracy = accuracy_score(y_train_numeric, y_train_pred)\n",
        "print(f\"Training Accuracy: {train_accuracy:.4f} ({train_accuracy*100:.2f}%)\")\n"
      ]
    }
  ],
  "metadata": {
    "kernelspec": {
      "display_name": "Python 3",
      "language": "python",
      "name": "python3"
    },
    "language_info": {
      "codemirror_mode": {
        "name": "ipython",
        "version": 3
      },
      "file_extension": ".py",
      "mimetype": "text/x-python",
      "name": "python",
      "nbconvert_exporter": "python",
      "pygments_lexer": "ipython3",
      "version": "3.13.8"
    }
  },
  "nbformat": 4,
  "nbformat_minor": 2
}
