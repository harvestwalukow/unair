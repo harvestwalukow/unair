{
 "cells": [
  {
   "cell_type": "markdown",
   "id": "5eb232ad",
   "metadata": {},
   "source": [
    "## Laporan\n",
    "- Harvest Walukow\n",
    "- 164231104"
   ]
  },
  {
   "cell_type": "code",
   "execution_count": null,
   "id": "cce288c1",
   "metadata": {},
   "outputs": [],
   "source": [
    "# pip install openpyxl\n",
    "# pip install imblearn"
   ]
  },
  {
   "cell_type": "code",
   "execution_count": null,
   "id": "d9af94ef",
   "metadata": {},
   "outputs": [],
   "source": [
    "import pandas as pd\n",
    "\n",
    "import matplotlib.pyplot as plt\n",
    "\n",
    "from sklearn.model_selection import train_test_split\n",
    "from sklearn.feature_extraction.text import TfidfVectorizer\n",
    "from sklearn.svm import SVC\n",
    "from sklearn.metrics import classification_report, confusion_matrix\n",
    "\n",
    "import seaborn as sns"
   ]
  },
  {
   "cell_type": "code",
   "execution_count": 4,
   "id": "d89dce10",
   "metadata": {},
   "outputs": [],
   "source": [
    "df = pd.read_excel('ExerciseSAClass.xlsx')"
   ]
  },
  {
   "cell_type": "code",
   "execution_count": 9,
   "id": "a0096fc0",
   "metadata": {},
   "outputs": [
    {
     "data": {
      "text/html": [
       "<div>\n",
       "<style scoped>\n",
       "    .dataframe tbody tr th:only-of-type {\n",
       "        vertical-align: middle;\n",
       "    }\n",
       "\n",
       "    .dataframe tbody tr th {\n",
       "        vertical-align: top;\n",
       "    }\n",
       "\n",
       "    .dataframe thead th {\n",
       "        text-align: right;\n",
       "    }\n",
       "</style>\n",
       "<table border=\"1\" class=\"dataframe\">\n",
       "  <thead>\n",
       "    <tr style=\"text-align: right;\">\n",
       "      <th></th>\n",
       "      <th>Post ID</th>\n",
       "      <th>Post description</th>\n",
       "      <th>Date</th>\n",
       "      <th>Language</th>\n",
       "      <th>Translated Post Description</th>\n",
       "      <th>Sentiment</th>\n",
       "      <th>Hate</th>\n",
       "    </tr>\n",
       "  </thead>\n",
       "  <tbody>\n",
       "    <tr>\n",
       "      <th>0</th>\n",
       "      <td>CgXDOaQDvGm</td>\n",
       "      <td>“I have decided that the global #monkeypox out...</td>\n",
       "      <td>07/23/2022</td>\n",
       "      <td>English</td>\n",
       "      <td>“I have decided that the global #monkeypox out...</td>\n",
       "      <td>neutral</td>\n",
       "      <td>Not Hate</td>\n",
       "    </tr>\n",
       "    <tr>\n",
       "      <th>1</th>\n",
       "      <td>CgXpRmMIdzG</td>\n",
       "      <td>In light of the evolving monkeypox outbreak wi...</td>\n",
       "      <td>07/23/2022</td>\n",
       "      <td>English</td>\n",
       "      <td>In light of the evolving monkeypox outbreak wi...</td>\n",
       "      <td>neutral</td>\n",
       "      <td>Not Hate</td>\n",
       "    </tr>\n",
       "    <tr>\n",
       "      <th>2</th>\n",
       "      <td>CgXaFGDsevq</td>\n",
       "      <td>If you've been hearing about monkeypox and wan...</td>\n",
       "      <td>07/23/2022</td>\n",
       "      <td>English</td>\n",
       "      <td>If you've been hearing about monkeypox and wan...</td>\n",
       "      <td>neutral</td>\n",
       "      <td>Not Hate</td>\n",
       "    </tr>\n",
       "    <tr>\n",
       "      <th>3</th>\n",
       "      <td>CgXGNrmLwoL</td>\n",
       "      <td>Monkeypox is a rare disease caused by infectio...</td>\n",
       "      <td>07/23/2022</td>\n",
       "      <td>English</td>\n",
       "      <td>Monkeypox is a rare disease caused by infectio...</td>\n",
       "      <td>neutral</td>\n",
       "      <td>Not Hate</td>\n",
       "    </tr>\n",
       "    <tr>\n",
       "      <th>4</th>\n",
       "      <td>CgXTqcjOQD-</td>\n",
       "      <td>For today's @newyorkermag dispatch. \\n'The Ago...</td>\n",
       "      <td>07/23/2022</td>\n",
       "      <td>English</td>\n",
       "      <td>For today's @newyorkermag dispatch. \\n'The Ago...</td>\n",
       "      <td>negative</td>\n",
       "      <td>Not Hate</td>\n",
       "    </tr>\n",
       "  </tbody>\n",
       "</table>\n",
       "</div>"
      ],
      "text/plain": [
       "       Post ID                                   Post description        Date  \\\n",
       "0  CgXDOaQDvGm  “I have decided that the global #monkeypox out...  07/23/2022   \n",
       "1  CgXpRmMIdzG  In light of the evolving monkeypox outbreak wi...  07/23/2022   \n",
       "2  CgXaFGDsevq  If you've been hearing about monkeypox and wan...  07/23/2022   \n",
       "3  CgXGNrmLwoL  Monkeypox is a rare disease caused by infectio...  07/23/2022   \n",
       "4  CgXTqcjOQD-  For today's @newyorkermag dispatch. \\n'The Ago...  07/23/2022   \n",
       "\n",
       "  Language                        Translated Post Description Sentiment  \\\n",
       "0  English  “I have decided that the global #monkeypox out...   neutral   \n",
       "1  English  In light of the evolving monkeypox outbreak wi...   neutral   \n",
       "2  English  If you've been hearing about monkeypox and wan...   neutral   \n",
       "3  English  Monkeypox is a rare disease caused by infectio...   neutral   \n",
       "4  English  For today's @newyorkermag dispatch. \\n'The Ago...  negative   \n",
       "\n",
       "       Hate  \n",
       "0  Not Hate  \n",
       "1  Not Hate  \n",
       "2  Not Hate  \n",
       "3  Not Hate  \n",
       "4  Not Hate  "
      ]
     },
     "execution_count": 9,
     "metadata": {},
     "output_type": "execute_result"
    }
   ],
   "source": [
    "df.head()"
   ]
  },
  {
   "cell_type": "code",
   "execution_count": 8,
   "id": "d4ffa15b",
   "metadata": {},
   "outputs": [
    {
     "data": {
      "text/html": [
       "<div>\n",
       "<style scoped>\n",
       "    .dataframe tbody tr th:only-of-type {\n",
       "        vertical-align: middle;\n",
       "    }\n",
       "\n",
       "    .dataframe tbody tr th {\n",
       "        vertical-align: top;\n",
       "    }\n",
       "\n",
       "    .dataframe thead th {\n",
       "        text-align: right;\n",
       "    }\n",
       "</style>\n",
       "<table border=\"1\" class=\"dataframe\">\n",
       "  <thead>\n",
       "    <tr style=\"text-align: right;\">\n",
       "      <th></th>\n",
       "      <th>Post ID</th>\n",
       "      <th>Post description</th>\n",
       "      <th>Date</th>\n",
       "      <th>Language</th>\n",
       "      <th>Translated Post Description</th>\n",
       "      <th>Sentiment</th>\n",
       "      <th>Hate</th>\n",
       "    </tr>\n",
       "  </thead>\n",
       "  <tbody>\n",
       "    <tr>\n",
       "      <th>8</th>\n",
       "      <td>CgXclY6uupc</td>\n",
       "      <td>MONKEYPOX: OMS declara que surto da doença con...</td>\n",
       "      <td>07/23/2022</td>\n",
       "      <td>Portuguese</td>\n",
       "      <td>MONKEYPOX: WHO declares outbreak of disease co...</td>\n",
       "      <td>neutral</td>\n",
       "      <td>Not Hate</td>\n",
       "    </tr>\n",
       "    <tr>\n",
       "      <th>38</th>\n",
       "      <td>Cgcc4YqMuzX</td>\n",
       "      <td>O que você precisa saber sobre monkeypox, tamb...</td>\n",
       "      <td>07/25/2022</td>\n",
       "      <td>Portuguese</td>\n",
       "      <td>What do you need to know about monkeypox, also...</td>\n",
       "      <td>neutral</td>\n",
       "      <td>Not Hate</td>\n",
       "    </tr>\n",
       "    <tr>\n",
       "      <th>41</th>\n",
       "      <td>CgcQOizOUMY</td>\n",
       "      <td>Surto de Monkeypox não vem dos macacos!\\nA Clí...</td>\n",
       "      <td>07/25/2022</td>\n",
       "      <td>Portuguese</td>\n",
       "      <td>Monkeypox outbreak does not come from monkeys!...</td>\n",
       "      <td>neutral</td>\n",
       "      <td>Not Hate</td>\n",
       "    </tr>\n",
       "    <tr>\n",
       "      <th>63</th>\n",
       "      <td>Cge9WeLOeZl</td>\n",
       "      <td>#Repost @saesp.anestesia with @use.repost\\n・・・...</td>\n",
       "      <td>07/26/2022</td>\n",
       "      <td>Portuguese</td>\n",
       "      <td>#Repost @saesp.anestesia with @use.repost ・・・ ...</td>\n",
       "      <td>negative</td>\n",
       "      <td>Not Hate</td>\n",
       "    </tr>\n",
       "    <tr>\n",
       "      <th>65</th>\n",
       "      <td>CgfvBKds1nc</td>\n",
       "      <td>NOTA - Monkeypox Em Nazaré Do Tocantins Pacien...</td>\n",
       "      <td>07/26/2022</td>\n",
       "      <td>Portuguese</td>\n",
       "      <td>NOTE - Monkeypox In Nazaré Do Tocantins Patien...</td>\n",
       "      <td>neutral</td>\n",
       "      <td>Not Hate</td>\n",
       "    </tr>\n",
       "  </tbody>\n",
       "</table>\n",
       "</div>"
      ],
      "text/plain": [
       "        Post ID                                   Post description  \\\n",
       "8   CgXclY6uupc  MONKEYPOX: OMS declara que surto da doença con...   \n",
       "38  Cgcc4YqMuzX  O que você precisa saber sobre monkeypox, tamb...   \n",
       "41  CgcQOizOUMY  Surto de Monkeypox não vem dos macacos!\\nA Clí...   \n",
       "63  Cge9WeLOeZl  #Repost @saesp.anestesia with @use.repost\\n・・・...   \n",
       "65  CgfvBKds1nc  NOTA - Monkeypox Em Nazaré Do Tocantins Pacien...   \n",
       "\n",
       "          Date    Language                        Translated Post Description  \\\n",
       "8   07/23/2022  Portuguese  MONKEYPOX: WHO declares outbreak of disease co...   \n",
       "38  07/25/2022  Portuguese  What do you need to know about monkeypox, also...   \n",
       "41  07/25/2022  Portuguese  Monkeypox outbreak does not come from monkeys!...   \n",
       "63  07/26/2022  Portuguese  #Repost @saesp.anestesia with @use.repost ・・・ ...   \n",
       "65  07/26/2022  Portuguese  NOTE - Monkeypox In Nazaré Do Tocantins Patien...   \n",
       "\n",
       "   Sentiment      Hate  \n",
       "8    neutral  Not Hate  \n",
       "38   neutral  Not Hate  \n",
       "41   neutral  Not Hate  \n",
       "63  negative  Not Hate  \n",
       "65   neutral  Not Hate  "
      ]
     },
     "execution_count": 8,
     "metadata": {},
     "output_type": "execute_result"
    }
   ],
   "source": [
    "df[df['Language'] == 'Portuguese'].head()"
   ]
  },
  {
   "cell_type": "code",
   "execution_count": 26,
   "id": "ad03767a",
   "metadata": {},
   "outputs": [
    {
     "data": {
      "text/plain": [
       "Sentiment\n",
       "neutral     4254\n",
       "negative     615\n",
       "positif      376\n",
       "Name: count, dtype: int64"
      ]
     },
     "execution_count": 26,
     "metadata": {},
     "output_type": "execute_result"
    }
   ],
   "source": [
    "df[df['Language'] == 'Portuguese']['Sentiment'].value_counts()"
   ]
  },
  {
   "cell_type": "code",
   "execution_count": null,
   "id": "85d4d2c4",
   "metadata": {},
   "outputs": [
    {
     "name": "stdout",
     "output_type": "stream",
     "text": [
      "Train size: 4196, Test size: 1049\n"
     ]
    }
   ],
   "source": [
    "# LABEL MAPPING & TRAIN/TEST SPLIT\n",
    "label_map = {'negative':0, 'neutral':1, 'positif':2}\n",
    "df['label_num'] = df['Sentiment'].map(label_map)\n",
    "\n",
    "# Filter untuk bahasa Português dan hapus baris dengan nilai NaN\n",
    "df_portugal = df[df['Language'] == 'Portuguese'].dropna(subset=['Translated Post Description', 'label_num'])\n",
    "\n",
    "X_train, X_test, y_train, y_test = train_test_split(\n",
    "    df_portugal['Translated Post Description'], \n",
    "    df_portugal['label_num'], \n",
    "    test_size=0.2,\n",
    "    random_state=42,\n",
    "    stratify=df_portugal['label_num']\n",
    ")\n",
    "\n",
    "print(f\"Train size: {len(X_train)}, Test size: {len(X_test)}\")\n",
    "\n",
    "# TF-IDF VECTORIZATION\n",
    "tfidf = TfidfVectorizer(lowercase=True, stop_words='english')\n",
    "X_train_tfidf = tfidf.fit_transform(X_train)\n",
    "X_test_tfidf  = tfidf.transform(X_test)"
   ]
  },
  {
   "cell_type": "code",
   "execution_count": 22,
   "id": "630531c5",
   "metadata": {},
   "outputs": [
    {
     "name": "stdout",
     "output_type": "stream",
     "text": [
      "              precision    recall  f1-score   support\n",
      "\n",
      "    negative       0.75      0.44      0.55       123\n",
      "     neutral       0.87      0.97      0.92       851\n",
      "     positif       0.71      0.29      0.42        75\n",
      "\n",
      "    accuracy                           0.86      1049\n",
      "   macro avg       0.78      0.57      0.63      1049\n",
      "weighted avg       0.85      0.86      0.84      1049\n",
      "\n"
     ]
    }
   ],
   "source": [
    "svm_model = SVC(kernel='linear', C=1.0, random_state=42)\n",
    "svm_model.fit(X_train_tfidf, y_train)\n",
    "y_pred_svm = svm_model.predict(X_test_tfidf)\n",
    "\n",
    "print(classification_report(y_test, y_pred_svm, target_names=['negative','neutral','positif']))\n"
   ]
  },
  {
   "cell_type": "code",
   "execution_count": 28,
   "id": "c893a9e8",
   "metadata": {},
   "outputs": [
    {
     "data": {
      "image/png": "[encoded data removed]",
      "text/plain": [
       "<Figure size 500x400 with 2 Axes>"
      ]
     },
     "metadata": {},
     "output_type": "display_data"
    }
   ],
   "source": [
    "cm_svm = confusion_matrix(y_test, y_pred_svm)\n",
    "plt.figure(figsize=(5,4))\n",
    "sns.heatmap(cm_svm, annot=True, fmt='d', cmap='Greens',\n",
    "            xticklabels=['negative','neutral','positif'], \n",
    "            yticklabels=['negative','neutral','positif'])\n",
    "plt.title(\"SVM Confusion Matrix\")\n",
    "plt.xlabel(\"Prediksi\")\n",
    "plt.ylabel(\"True Values\") \n",
    "plt.show()"
   ]
  }
 ],
 "metadata": {
  "kernelspec": {
   "display_name": "Python 3",
   "language": "python",
   "name": "python3"
  },
  "language_info": {
   "codemirror_mode": {
    "name": "ipython",
    "version": 3
   },
   "file_extension": ".py",
   "mimetype": "text/x-python",
   "name": "python",
   "nbconvert_exporter": "python",
   "pygments_lexer": "ipython3",
   "version": "3.13.7"
  }
 },
 "nbformat": 4,
 "nbformat_minor": 5
}
