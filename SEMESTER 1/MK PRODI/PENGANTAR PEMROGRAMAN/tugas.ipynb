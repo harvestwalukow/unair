{
 "cells": [
  {
   "cell_type": "markdown",
   "id": "37f50eb7",
   "metadata": {},
   "source": [
    "# Tugas Week 12\n",
    "### Harvest Ecclesiano Christ Walukow 164231104"
   ]
  },
  {
   "cell_type": "code",
   "execution_count": 8,
   "id": "a2fe87c5",
   "metadata": {},
   "outputs": [
    {
     "name": "stdout",
     "output_type": "stream",
     "text": [
      "Masukkan harga barang: 10000\n",
      "Masukkan diskon (%): 50\n",
      "Harga setelah didiskon adalah 5000.0\n"
     ]
    }
   ],
   "source": [
    "harga_awal=int(input(\"Masukkan harga barang: \"))\n",
    "diskon=int(input(\"Masukkan diskon (%): \"))\n",
    "\n",
    "harga_diskon=harga_awal-(harga_awal*(diskon/100))\n",
    "\n",
    "print(f\"Harga setelah didiskon adalah {harga_diskon}\")"
   ]
  },
  {
   "cell_type": "code",
   "execution_count": 11,
   "id": "4e7617b9",
   "metadata": {},
   "outputs": [
    {
     "name": "stdout",
     "output_type": "stream",
     "text": [
      "Masukkan jumlah babi: 5\n",
      "Masukkan jumlah ayam: 5\n",
      "Masukkan jumlah sapi: 5\n",
      "Masukkan jumlah domba: 0\n",
      "Jumlah kaki babi, ayam, sapi, dan domba ada sebanyak 50 kaki.\n"
     ]
    }
   ],
   "source": [
    "a=int(input(\"Masukkan jumlah babi: \"))\n",
    "b=int(input(\"Masukkan jumlah ayam: \"))\n",
    "c=int(input(\"Masukkan jumlah sapi: \"))\n",
    "d=int(input(\"Masukkan jumlah domba: \"))\n",
    "\n",
    "total_kaki=a*4+b*2+c*4+d*4\n",
    "\n",
    "print(f\"Jumlah kaki babi, ayam, sapi, dan domba ada sebanyak {total_kaki} kaki.\")"
   ]
  },
  {
   "cell_type": "code",
   "execution_count": 13,
   "id": "190c75ec",
   "metadata": {},
   "outputs": [
    {
     "name": "stdout",
     "output_type": "stream",
     "text": [
      "Masukkan panjang alas: 5\n",
      "Masukkan panjang tinggi: 12\n",
      "13.0\n"
     ]
    }
   ],
   "source": [
    "alas=float(input(\"Masukkan panjang alas: \"))\n",
    "tinggi=float(input(\"Masukkan panjang tinggi: \"))\n",
    "sisi_miring=(alas*alas+tinggi*tinggi)**0.5\n",
    "\n",
    "print(sisi_miring)"
   ]
  },
  {
   "cell_type": "code",
   "execution_count": 15,
   "id": "cc74f1d8",
   "metadata": {
    "scrolled": true
   },
   "outputs": [
    {
     "name": "stdout",
     "output_type": "stream",
     "text": [
      "Masukkan jumlah tahun: 1.5\n",
      "1.5 Tahun sama dengan 547.5 Hari atau 78.0 Minggu\n"
     ]
    }
   ],
   "source": [
    "tahun=float(input(\"Masukkan jumlah tahun: \"))\n",
    "hari=tahun*365\n",
    "minggu=tahun*52\n",
    "\n",
    "print(f\"{tahun} Tahun sama dengan {hari} Hari atau {minggu} Minggu\")"
   ]
  }
 ],
 "metadata": {
  "kernelspec": {
   "display_name": "Python 3 (ipykernel)",
   "language": "python",
   "name": "python3"
  },
  "language_info": {
   "codemirror_mode": {
    "name": "ipython",
    "version": 3
   },
   "file_extension": ".py",
   "mimetype": "text/x-python",
   "name": "python",
   "nbconvert_exporter": "python",
   "pygments_lexer": "ipython3",
   "version": "3.11.4"
  }
 },
 "nbformat": 4,
 "nbformat_minor": 5
}
