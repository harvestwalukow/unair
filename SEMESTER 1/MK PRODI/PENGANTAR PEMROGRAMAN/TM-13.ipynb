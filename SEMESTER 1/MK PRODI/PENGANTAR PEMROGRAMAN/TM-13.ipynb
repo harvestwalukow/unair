{
 "cells": [
  {
   "cell_type": "markdown",
   "id": "427ea5fa",
   "metadata": {},
   "source": [
    "# Fungsi"
   ]
  },
  {
   "cell_type": "code",
   "execution_count": 8,
   "id": "82fabe27",
   "metadata": {},
   "outputs": [],
   "source": [
    "def luas_persegi(sisi):\n",
    "    luas=sisi*sisi\n",
    "    return luas"
   ]
  },
  {
   "cell_type": "code",
   "execution_count": 9,
   "id": "825970ec",
   "metadata": {},
   "outputs": [
    {
     "name": "stdout",
     "output_type": "stream",
     "text": [
      "49\n"
     ]
    }
   ],
   "source": [
    "print(luas_persegi(7))"
   ]
  },
  {
   "cell_type": "code",
   "execution_count": 10,
   "id": "005fd698",
   "metadata": {},
   "outputs": [],
   "source": [
    "def relation_to_luke(person):\n",
    "    bv person='Darth Vader'\n",
    "    return print('father')\n"
   ]
  },
  {
   "cell_type": "code",
   "execution_count": 11,
   "id": "aaf1e058",
   "metadata": {},
   "outputs": [
    {
     "name": "stdout",
     "output_type": "stream",
     "text": [
      "father\n",
      "None\n"
     ]
    }
   ],
   "source": [
    "print(relation_to_luke('Darth Vader'))"
   ]
  },
  {
   "cell_type": "code",
   "execution_count": 18,
   "id": "ddcf850c",
   "metadata": {},
   "outputs": [],
   "source": [
    "def damage(hp):\n",
    "    total_damage = hp * 60\n",
    "    return total_damage"
   ]
  },
  {
   "cell_type": "code",
   "execution_count": 20,
   "id": "b00535a1",
   "metadata": {},
   "outputs": [
    {
     "name": "stdout",
     "output_type": "stream",
     "text": [
      "Masukkan Damage4\n",
      "damage setelah kalkulasi  240.0\n"
     ]
    }
   ],
   "source": [
    "total = float(input('Masukkan Damage'))\n",
    "\n",
    "print('damage setelah kalkulasi ', str(damage(total)))"
   ]
  },
  {
   "cell_type": "code",
   "execution_count": 57,
   "id": "47a0679e",
   "metadata": {},
   "outputs": [],
   "source": [
    "def damage(x,y,time):\n",
    "    if x < 0 or y < 0:\n",
    "        print(\"Invalid\")\n",
    "        return\n",
    "    if time==\"second\":\n",
    "        total=x*y\n",
    "        return total\n",
    "    elif time==\"minute\":\n",
    "        total=x*y*60\n",
    "        return total\n",
    "    elif time==\"hour\":\n",
    "        total=x*y*3600\n",
    "        return total"
   ]
  },
  {
   "cell_type": "code",
   "execution_count": 58,
   "id": "9eb76f5d",
   "metadata": {},
   "outputs": [
    {
     "name": "stdout",
     "output_type": "stream",
     "text": [
      "Invalid\n",
      "None\n"
     ]
    }
   ],
   "source": [
    "print(damage(-40,-5,\"minute\"))"
   ]
  },
  {
   "cell_type": "code",
   "execution_count": null,
   "id": "1ecd652d",
   "metadata": {},
   "outputs": [],
   "source": []
  }
 ],
 "metadata": {
  "kernelspec": {
   "display_name": "Python 3 (ipykernel)",
   "language": "python",
   "name": "python3"
  },
  "language_info": {
   "codemirror_mode": {
    "name": "ipython",
    "version": 3
   },
   "file_extension": ".py",
   "mimetype": "text/x-python",
   "name": "python",
   "nbconvert_exporter": "python",
   "pygments_lexer": "ipython3",
   "version": "3.11.4"
  }
 },
 "nbformat": 4,
 "nbformat_minor": 5
}
