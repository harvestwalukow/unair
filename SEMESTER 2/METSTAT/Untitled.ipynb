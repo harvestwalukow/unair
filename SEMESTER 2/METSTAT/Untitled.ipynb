{
 "cells": [
  {
   "cell_type": "code",
   "execution_count": 1,
   "id": "1a724a15",
   "metadata": {},
   "outputs": [],
   "source": [
    "!pip install -qqq statsmodels scipy"
   ]
  },
  {
   "cell_type": "code",
   "execution_count": 4,
   "id": "11ba673c",
   "metadata": {},
   "outputs": [
    {
     "data": {
      "text/plain": [
       "(-2.0, 0.34375)"
      ]
     },
     "execution_count": 4,
     "metadata": {},
     "output_type": "execute_result"
    }
   ],
   "source": [
    "from statsmodels.stats.descriptivestats import sign_test\n",
    "data_sign_test = [1.5, 2.2, 0.9, 1.3, 2.0, 1.6, 1.8, 1.5, 2.0, 1.2, 1.7]\n",
    "hasil_sign_test = sign_test(data_sign_test, 1.8)\n",
    "\n",
    "hasil_sign_test"
   ]
  },
  {
   "cell_type": "code",
   "execution_count": 8,
   "id": "79e4bd92",
   "metadata": {},
   "outputs": [
    {
     "data": {
      "text/plain": [
       "0.0286865234375"
      ]
     },
     "execution_count": 8,
     "metadata": {},
     "output_type": "execute_result"
    }
   ],
   "source": [
    "import numpy as np\n",
    "\n",
    "ban_jenis_1 = np.array([4.2, 4.7, 6.6, 7, 6.7, 4.5, 5.7, 6, 7.4, 4.9, 6.1, 5.2, 5.7, 6.9, 6.8, 4.9])\n",
    "ban_jenis_2 = np.array([4.1, 4.9, 6.2, 6.9, 6.8, 4.4, 5.7, 5.8, 6.9, 4.9, 6, 4.9, 5.3, 6.5, 7.1, 4.8])\n",
    "\n",
    "hasil_st_ban = sign_test(ban_jenis_1,ban_jenis_2)\n",
    "\n",
    "hasil_st_ban[1]/2"
   ]
  },
  {
   "cell_type": "code",
   "execution_count": 10,
   "id": "705ca32e",
   "metadata": {},
   "outputs": [
    {
     "name": "stdout",
     "output_type": "stream",
     "text": [
      "T statistic: -0.5262108607928795\n",
      "P-value: 0.605165497336313\n",
      "Tidak terdapat perbedaan yang signifikan antara dua kelompok.\n"
     ]
    }
   ],
   "source": [
    "from scipy import stats\n",
    "\n",
    "kursus_A = [15, 20, 25, 18, 22, 17, 19, 21, 23, 16]\n",
    "kursus_B = [19, 23, 27, 24, 21, 26, 22, 20, 25, 2]\n",
    "\n",
    "t_statistic, p_value = stats.ttest_ind(kursus_A, kursus_B)\n",
    "\n",
    "print(\"T statistic:\", t_statistic)\n",
    "print(\"P-value:\", p_value)"
   ]
  },
  {
   "cell_type": "code",
   "execution_count": null,
   "id": "61666e32",
   "metadata": {},
   "outputs": [],
   "source": []
  }
 ],
 "metadata": {
  "kernelspec": {
   "display_name": "Python 3 (ipykernel)",
   "language": "python",
   "name": "python3"
  },
  "language_info": {
   "codemirror_mode": {
    "name": "ipython",
    "version": 3
   },
   "file_extension": ".py",
   "mimetype": "text/x-python",
   "name": "python",
   "nbconvert_exporter": "python",
   "pygments_lexer": "ipython3",
   "version": "3.9.7"
  }
 },
 "nbformat": 4,
 "nbformat_minor": 5
}
