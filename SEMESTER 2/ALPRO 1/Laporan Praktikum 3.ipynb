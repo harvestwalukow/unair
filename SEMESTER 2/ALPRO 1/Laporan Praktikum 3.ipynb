{
 "cells": [
  {
   "cell_type": "markdown",
   "metadata": {},
   "source": [
    "## Laporan Praktikum 3\n",
    "\n",
    "- Nama: Harvest Ecclesiano Christ Walukow\n",
    "- NIM: 164231104"
   ]
  },
  {
   "cell_type": "markdown",
   "metadata": {},
   "source": [
    "### Percobaan"
   ]
  },
  {
   "cell_type": "markdown",
   "metadata": {},
   "source": [
    "### Nomor 1"
   ]
  },
  {
   "cell_type": "code",
   "execution_count": 1,
   "metadata": {},
   "outputs": [
    {
     "name": "stdout",
     "output_type": "stream",
     "text": [
      "edang\n",
      "Saya \n",
      "dang belajar bahasa pemrograman Python\n",
      "tho\n",
      "edang\n",
      "S a\n"
     ]
    }
   ],
   "source": [
    "kalimat = \"Saya sedang belajar bahasa pemrograman Python\" # menyimpan string pada variabel kalimat\n",
    "# di bawah ini dilakukan slicing untuk menghasilkan output berupa beberapa karakter tertenty\n",
    "print(kalimat[6:11])\n",
    "print(kalimat[:5])\n",
    "print(kalimat[7:])\n",
    "print(kalimat[-4:-1])\n",
    "print(kalimat[6:11:1])\n",
    "print(kalimat[0:12:4])"
   ]
  },
  {
   "cell_type": "markdown",
   "metadata": {},
   "source": [
    "### Nomor 2"
   ]
  },
  {
   "cell_type": "code",
   "execution_count": 2,
   "metadata": {},
   "outputs": [
    {
     "name": "stdout",
     "output_type": "stream",
     "text": [
      "Nama saya Joni, saya berumur 20\n",
      "Saya ingin 1 buah barang dengan nomor barang 123 seharga 49.95dolar.\n"
     ]
    }
   ],
   "source": [
    "age = 20\n",
    "txt = \"Nama saya Joni, saya berumur {}\"\n",
    "print(txt.format(age)) # mengambil nilai age untuk dimasukkan dalam txt\n",
    "\n",
    "quantity = 1\n",
    "nomoritem = 123\n",
    "price = 49.95\n",
    "myorder = \"Saya ingin {} buah barang dengan nomor barang {} seharga {}dolar.\"\n",
    "print (myorder.format(quantity, nomoritem, price)) # nilai di variabel-variabel sebelumnya di format untuk variabel myorder"
   ]
  },
  {
   "cell_type": "markdown",
   "metadata": {},
   "source": [
    "### Nomor 3"
   ]
  },
  {
   "cell_type": "code",
   "execution_count": 3,
   "metadata": {},
   "outputs": [
    {
     "name": "stdout",
     "output_type": "stream",
     "text": [
      "Belajar Python menyenangkan\n"
     ]
    }
   ],
   "source": [
    "x = \"Belajar Python \"\n",
    "y = \"menyenangkan\"\n",
    "z = x + y # string dapat dijumlah\n",
    "print(z) "
   ]
  },
  {
   "cell_type": "markdown",
   "metadata": {},
   "source": [
    "### Tugas Praktikum"
   ]
  },
  {
   "cell_type": "markdown",
   "metadata": {},
   "source": [
    "### Nomor 1"
   ]
  },
  {
   "cell_type": "code",
   "execution_count": 4,
   "metadata": {},
   "outputs": [
    {
     "name": "stdout",
     "output_type": "stream",
     "text": [
      "ayabaruS\n"
     ]
    }
   ],
   "source": [
    "string=input(\"Masukkan string: \") # memberikan input berupa string\n",
    "kebalikan=string[::-1] # variabel string akan dibalik dengan slicing string, di slice semua sequence secara reverse\n",
    "print(kebalikan)"
   ]
  },
  {
   "cell_type": "markdown",
   "metadata": {},
   "source": [
    "### Nomor 2"
   ]
  },
  {
   "cell_type": "code",
   "execution_count": 5,
   "metadata": {},
   "outputs": [
    {
     "name": "stdout",
     "output_type": "stream",
     "text": [
      "ab\n",
      "bc\n",
      "cd\n",
      "de\n",
      "ef\n",
      "fg\n",
      "gh\n",
      "hi\n"
     ]
    }
   ],
   "source": [
    "string = \"abcdefghi\" # menyimpan string ke dalam variabel\n",
    "\n",
    "for i in range(len(string) - 1): # fungsi for akan mengiterasi variabel string\n",
    "    print(string[i:i+2]) # akan dikeluarkan output berupa i dan karakter sebelum i+2"
   ]
  },
  {
   "cell_type": "markdown",
   "metadata": {},
   "source": [
    "### Nomor 3"
   ]
  },
  {
   "cell_type": "code",
   "execution_count": 6,
   "metadata": {},
   "outputs": [
    {
     "name": "stdout",
     "output_type": "stream",
     "text": [
      "False\n",
      "Banyak kata Saya 2, kata saya 6\n"
     ]
    }
   ],
   "source": [
    "paragraf=\"\"\"\n",
    "Nama saya adalah Rita Sugiarto. Saya memiliki hobi menyanyi sejak kecil. Semua\n",
    "berawal dari mimpi ibu saya untuk memiliki putri seorang penyanyi. Saya berlatih\n",
    "vokal seminggu sekali dengan guru saya. Apabila saya menjadi juara satu dalam\n",
    "perlombaan menyanyi tingkat profinsi, ibu saya akan membelikan saya kado yang\n",
    "sangat istimewa.\n",
    "\"\"\" # meng-assign teks ke dalam variabel paragraf\n",
    "\n",
    "print(\"mereka\" in paragraf) # mengecek apakah kata mereka ada dalam paragraf\n",
    "\n",
    "besar = paragraf.count(\"Saya\") # menghitung kata Saya\n",
    "kecil = paragraf.count(\"saya\") # menghitung kata saya\n",
    "\n",
    "print(f\"Banyak kata Saya {besar}, kata saya {kecil}\")"
   ]
  }
 ],
 "metadata": {
  "kernelspec": {
   "display_name": "pengpro",
   "language": "python",
   "name": "python3"
  },
  "language_info": {
   "codemirror_mode": {
    "name": "ipython",
    "version": 3
   },
   "file_extension": ".py",
   "mimetype": "text/x-python",
   "name": "python",
   "nbconvert_exporter": "python",
   "pygments_lexer": "ipython3",
   "version": "3.6.13"
  }
 },
 "nbformat": 4,
 "nbformat_minor": 2
}
