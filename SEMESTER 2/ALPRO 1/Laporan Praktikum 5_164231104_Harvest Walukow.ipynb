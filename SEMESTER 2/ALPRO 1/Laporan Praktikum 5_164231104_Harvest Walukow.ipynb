{
 "cells": [
  {
   "cell_type": "markdown",
   "metadata": {},
   "source": [
    "## Laporan Praktikum 5\n",
    "- Harvest Ecclesiano Christ Walukow\n",
    "- 154231104"
   ]
  },
  {
   "cell_type": "markdown",
   "metadata": {},
   "source": [
    "#### NOMOR 1: PERCOBAAN"
   ]
  },
  {
   "cell_type": "code",
   "execution_count": 3,
   "metadata": {},
   "outputs": [
    {
     "name": "stdout",
     "output_type": "stream",
     "text": [
      "b lebih besar dari a\n"
     ]
    }
   ],
   "source": [
    "# assign nilai pada variabel a dan b\n",
    "a = 75\n",
    "b = 200\n",
    "if b > a:\n",
    "    print(\"b lebih besar dari a\") # apabila kondisi true, maka output print dijalankan. kode ini menggunakan percabangan sederhana"
   ]
  },
  {
   "cell_type": "code",
   "execution_count": 5,
   "metadata": {},
   "outputs": [
    {
     "name": "stdout",
     "output_type": "stream",
     "text": [
      "Pernyataan a > b and c > a benar\n"
     ]
    }
   ],
   "source": [
    "# assign nilai pada variabel a, b, dan c\n",
    "a = 200\n",
    "b = 100\n",
    "c = 300\n",
    "\n",
    "# selanjutnya dicek apakah a > b dan c > a dengan percabangan two-way\n",
    "if a > b and c > a: \n",
    "    print (\"Pernyataan a > b and c > a benar\")\n",
    "else:\n",
    "    print (\"Pernyataan a > b and c > a salah\")"
   ]
  },
  {
   "cell_type": "code",
   "execution_count": 6,
   "metadata": {},
   "outputs": [
    {
     "name": "stdout",
     "output_type": "stream",
     "text": [
      "Bilangan positif\n"
     ]
    }
   ],
   "source": [
    "num = 3.4 # nilai 3.4 di assign pada variabel num\n",
    "\n",
    "# dilakukan percabangan multi-way untuk menentukan jenis bilangan\n",
    "if num > 0:\n",
    "    print (\"Bilangan positif\")\n",
    "elif num == 0:\n",
    "    print(\"Nol\")\n",
    "else:\n",
    "    print (\"Bilangan negatif\")"
   ]
  },
  {
   "cell_type": "markdown",
   "metadata": {},
   "source": [
    "#### NOMOR 2"
   ]
  },
  {
   "cell_type": "code",
   "execution_count": 22,
   "metadata": {},
   "outputs": [
    {
     "name": "stdout",
     "output_type": "stream",
     "text": [
      "Ongkos kirim untuk jarak 10.5 km adalah Rp 63000.0\n"
     ]
    }
   ],
   "source": [
    "jarak = float(input(\"Masukkan jarak pengiriman: \")) # variabel input untuk memasukkan jarak pengiriman\n",
    "\n",
    "# menggunakan nested if untuk menghindari input jarak negatif\n",
    "if jarak >= 0: # jika jarak bernilai positif (valid)\n",
    "    if 0 < jarak < 5:\n",
    "        ongkos_kirim = 0 # gratis jika kurang dari 5 km\n",
    "    elif 5 <= jarak <= 10:\n",
    "        ongkos_kirim = jarak * 5000 # dikali Rp5000 jika jarak berada di antara 5-10 km\n",
    "    elif 10 < jarak <= 20:\n",
    "        ongkos_kirim = jarak * 6000 # dikali Rp6000 jika jarak berada di antara 10-20 km (tidak dimulai dari 11 untuk menghindari bug apabila jarak ada di antara 10-11 km)\n",
    "    elif jarak > 20:\n",
    "        ongkos_kirim = jarak * 7000 # dikali Rp7000 jika jarak lebih dari km\n",
    "    print(f\"Ongkos kirim untuk jarak {jarak} km adalah Rp {ongkos_kirim}\")\n",
    "else:\n",
    "    print(\"Jarak tidak valid.\") # jika jarak bernilai negatif (tidak valid)\n"
   ]
  }
 ],
 "metadata": {
  "kernelspec": {
   "display_name": "pengpro",
   "language": "python",
   "name": "python3"
  },
  "language_info": {
   "codemirror_mode": {
    "name": "ipython",
    "version": 3
   },
   "file_extension": ".py",
   "mimetype": "text/x-python",
   "name": "python",
   "nbconvert_exporter": "python",
   "pygments_lexer": "ipython3",
   "version": "3.6.13"
  }
 },
 "nbformat": 4,
 "nbformat_minor": 2
}
