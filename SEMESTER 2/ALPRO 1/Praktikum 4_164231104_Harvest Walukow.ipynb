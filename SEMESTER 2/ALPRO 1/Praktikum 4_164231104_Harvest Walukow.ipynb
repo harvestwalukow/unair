{
 "cells": [
  {
   "cell_type": "markdown",
   "metadata": {},
   "source": [
    "## Praktikum 4"
   ]
  },
  {
   "cell_type": "markdown",
   "metadata": {},
   "source": [
    "- Harvest Ecclesiano Christ Walukow\n",
    "- 164231104"
   ]
  },
  {
   "cell_type": "markdown",
   "metadata": {},
   "source": [
    "### Nomor 1: Percobaan Praktikum"
   ]
  },
  {
   "cell_type": "markdown",
   "metadata": {},
   "source": [
    "#### List"
   ]
  },
  {
   "cell_type": "code",
   "execution_count": 2,
   "metadata": {},
   "outputs": [
    {
     "name": "stdout",
     "output_type": "stream",
     "text": [
      "list[2]:  13\n",
      "Data List Setelah di Update:  [3, 6, 13, 10, 17, 19, 45, 100, 120, 150, 23]\n",
      "Data List:  [3, 13, 10, 17, 19, 45, 100, 120, 150, 23]\n",
      "Data List Baru:  [3, 13, 17, 19, 45, 100, 120, 150, 23]\n",
      "Data List Baru:  []\n"
     ]
    }
   ],
   "source": [
    "list = [3, 6, 13, 10, 19, 45, 100, 120, 150]\n",
    "\n",
    "print('list[2]: ', list[2]) #Contoh akses nilai list dalam Python\n",
    "\n",
    "list.append(23) #Contoh update nilai list dalam Python\n",
    "list.insert(4, 17)\n",
    "print('Data List Setelah di Update: ', list)\n",
    "\n",
    "del list[1] #Contoh menghapus nilai list dalam Python\n",
    "print('Data List: ', list )\n",
    "\n",
    "list.remove(10)\n",
    "print('Data List Baru: ', list)\n",
    "\n",
    "list.clear() #Contoh menghapus semua nilai list dalam Python\n",
    "print('Data List Baru: ', list)"
   ]
  },
  {
   "cell_type": "markdown",
   "metadata": {},
   "source": [
    "#### Tuple"
   ]
  },
  {
   "cell_type": "code",
   "execution_count": 3,
   "metadata": {},
   "outputs": [
    {
     "name": "stdout",
     "output_type": "stream",
     "text": [
      "List:  (3, 6, 13, 10, 19, 45, 100, 120, 150)\n",
      "Panjang List:  9\n"
     ]
    }
   ],
   "source": [
    "list = (3, 6, 13, 10, 19, 45, 100, 120, 150) # Assign beberapa integer ke dalam variabel list yang ber-type tuple\n",
    "list1=len(list) # Mencari panjang list\n",
    "print('List: ', list)\n",
    "print('Panjang List: ', list1)"
   ]
  },
  {
   "cell_type": "markdown",
   "metadata": {},
   "source": [
    "#### Dictionary"
   ]
  },
  {
   "cell_type": "code",
   "execution_count": 1,
   "metadata": {},
   "outputs": [
    {
     "name": "stdout",
     "output_type": "stream",
     "text": [
      "dict_keys(['Andrian', 'Vancy', 'Dewi'])\n",
      "['Andrian', 'Vancy', 'Dewi']\n",
      "dict_values(['A1', 'A2', 'A3'])\n",
      "dict_items([('Andrian', 'A1'), ('Vancy', 'A2'), ('Dewi', 'A3')])\n",
      "None\n",
      "NO ENTRY\n"
     ]
    }
   ],
   "source": [
    "varclass = {'Andrian':'A1', 'Vancy':'A2', 'Dewi':'A3'} # Assign dictionary pada variabel varclass\n",
    "p=varclass.keys() # Mencari semua keys pada dictionary\n",
    "l=list(varclass.keys()) # Keys pada dictionary diubah menjadi list\n",
    "v=varclass.values() # Mencari semua values pada dictionary\n",
    "i=varclass.items() # Mengambil keys dan values\n",
    "g=varclass.get('Cahyo') # Melihat apakah terdapat sring Cahyo dalam dictionary\n",
    "g1=varclass.get('Fitri','NO ENTRY') # Melihat apakah \"Fitri\" ada dalam dictionary, dan mengeluarkan 'NO ENTRY' bila false\n",
    "\n",
    "# Memanggil semua variabel\n",
    "print(p)\n",
    "print(l)\n",
    "print(v)\n",
    "print(i)\n",
    "print(g)\n",
    "print(g1)"
   ]
  },
  {
   "cell_type": "markdown",
   "metadata": {},
   "source": [
    "### Tugas Praktikum"
   ]
  },
  {
   "cell_type": "markdown",
   "metadata": {},
   "source": [
    "#### Nomor 2"
   ]
  },
  {
   "cell_type": "code",
   "execution_count": 2,
   "metadata": {},
   "outputs": [
    {
     "name": "stdout",
     "output_type": "stream",
     "text": [
      "Panjang list = 5\n",
      "Data urut : [1, 2, 3, 4, 5]\n",
      "Maksimum: 5, Minimum: 1\n"
     ]
    }
   ],
   "source": [
    "input_angka = input(\"Masukkan angka-angka dalam list (dipisah dengan koma): \") # Menggunakan function input untuk membuat list\n",
    "split_angka = input_angka.split(',') # Menggunakan method split untuk memisahkan setiap bilangan\n",
    "\n",
    "list_angka=[] # Variabel kosong untuk meng-assign angka ke dalam list \n",
    "\n",
    "for angka in split_angka:\n",
    "    list_angka.append(int(angka)) # Setiap angka dalam variabel split_angka akan diiterasi dan masuk ke dalam variabel kosong list_angka\n",
    "    \n",
    "if len(list_angka) < 5:\n",
    "    print(\"Masukkan lebih dari 5 angka\") # Memberi syarat agar input angka minimum sebanyak lima menggunakan method len\n",
    "else:\n",
    "    print(f\"Panjang list = {len(list_angka)}\") # Menentukan panjang list\n",
    "    print(f\"Data urut : {sorted(list_angka)}\") # Mengurutkan list\n",
    "    print(f\"Maksimum: {max(list_angka)}, Minimum: {min(list_angka)}\") # Memanggil nilai maksimum dan minimum dari anggota bilangan dalam list"
   ]
  },
  {
   "cell_type": "markdown",
   "metadata": {},
   "source": [
    "#### Nomor 3"
   ]
  },
  {
   "cell_type": "code",
   "execution_count": 3,
   "metadata": {},
   "outputs": [
    {
     "name": "stdout",
     "output_type": "stream",
     "text": [
      "List angka: [10, 11, 12, 13, 14, 15, 16, 17, 18, 19, 20]\n",
      "Bilangan prima: [11, 13, 17, 19]\n"
     ]
    }
   ],
   "source": [
    "def prima(angka): # Membuat fungsi untuk menentukan sebuah bilangan adalah prima atau tidak\n",
    "    if angka <= 1:\n",
    "        return False # Return false untuk menghindari output angka 1 atau kurang dari 1\n",
    "    for i in range(2, int(angka ** 0.5) + 1): \n",
    "        if angka % i == 0:\n",
    "            return False # Menggunakan operator modulo sehingga apabila sisa bagi angka oleh bilangan dalam range adalah 0, maka akan menghasilkan false\n",
    "    return True\n",
    "\n",
    "def main(): # Fungsi utama (main)\n",
    "    angka_awal = int(input(\"Masukan bilangan awal: \")) # input bilangan awal dengan type integer\n",
    "    angka_akhir = int(input(\"Masukan bilangan akhir: \")) # input bilangan akhir dengan type integer\n",
    "    \n",
    "    list_angka = list(range(angka_awal, angka_akhir + 1)) # Membuat list rentang angka dari angka_awal sampai angka_akhir\n",
    "\n",
    "    list_prima = [] # Membuat list kosong untuk diisi bilangan prima hasil iterasi list_angka\n",
    "    for angka in list_angka: # Iterasi setiap angka dalam list_angka\n",
    "        if prima(angka):\n",
    "            list_prima.append(angka) # Apabila memenuhi (True) fungsi yang dibuat sebelumnya, maka angka akan ditambahkan ke dalam list_prima menggunakan method append\n",
    "\n",
    "    # Memanggil setiap variabel        \n",
    "    print(\"List angka:\", list_angka)\n",
    "    print(\"Bilangan prima:\", list_prima)\n",
    "\n",
    "main() # Menjalankan fungsi main"
   ]
  },
  {
   "cell_type": "markdown",
   "metadata": {},
   "source": [
    "#### Nomor 4"
   ]
  },
  {
   "cell_type": "code",
   "execution_count": 5,
   "metadata": {},
   "outputs": [
    {
     "name": "stdout",
     "output_type": "stream",
     "text": [
      "Wajah\n"
     ]
    }
   ],
   "source": [
    "# Buat variabel dan assign berupa dictionary\n",
    "dictionary = {\n",
    "    \"Anak\": \"Buah hati\",\n",
    "    \"Makan\": \"Menyantap\",\n",
    "    \"Cepat\": \"Laju\",\n",
    "    \"Paras\": \"Wajah\",\n",
    "    \"Kecil\": \"Sempit\",\n",
    "    \"Angin\": \"Bayu\",\n",
    "    \"Asa\": \"Harapan\",\n",
    "    \"Makanan\": \"Santapan\",\n",
    "    \"Bertemu\": \"Berjumpa\",\n",
    "    \"Besar\": \"Gede\"\n",
    "}\n",
    "\n",
    "cari_kata = input(\"Kata: \").capitalize() # Input kata yang akan dicari, menggunakan method capitalize untuk memastikan input sesuai dengan format di dictionary\n",
    "\n",
    "if cari_kata in dictionary:\n",
    "    print(dictionary.get(cari_kata)) # Apabila input berada di dictionary maka akan keluar values-nya\n",
    "else:\n",
    "    print('Kata tersebut belum ada pada dictionary') # Output jika input kata tidak ditemukan\n",
    "\n",
    "## note bahwa program ini hanya bisa memanggil values berdasarkan keys"
   ]
  }
 ],
 "metadata": {
  "kernelspec": {
   "display_name": "base",
   "language": "python",
   "name": "python3"
  },
  "language_info": {
   "codemirror_mode": {
    "name": "ipython",
    "version": 3
   },
   "file_extension": ".py",
   "mimetype": "text/x-python",
   "name": "python",
   "nbconvert_exporter": "python",
   "pygments_lexer": "ipython3",
   "version": "3.6.13"
  }
 },
 "nbformat": 4,
 "nbformat_minor": 2
}
