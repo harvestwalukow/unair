{
 "cells": [
  {
   "cell_type": "markdown",
   "metadata": {},
   "source": [
    "## Laporan Praktikum 5\n",
    "- Harvest Ecclesiano Christ Walukow\n",
    "- 164231104"
   ]
  },
  {
   "cell_type": "markdown",
   "metadata": {},
   "source": [
    "#### NOMOR 1: PERCOBAAN"
   ]
  },
  {
   "cell_type": "code",
   "execution_count": 2,
   "metadata": {},
   "outputs": [
    {
     "name": "stdout",
     "output_type": "stream",
     "text": [
      "1\n",
      "2\n",
      "3\n"
     ]
    }
   ],
   "source": [
    "#1\n",
    "i = 1 # menginisialisaasi variabel\n",
    "while i < 6:\n",
    "    print(i)\n",
    "    if i == 3:\n",
    "        break # perulangan berhenti saat i=3\n",
    "    i += 1"
   ]
  },
  {
   "cell_type": "code",
   "execution_count": 1,
   "metadata": {},
   "outputs": [
    {
     "name": "stdout",
     "output_type": "stream",
     "text": [
      "1\n",
      "2\n",
      "4\n",
      "5\n",
      "6\n"
     ]
    }
   ],
   "source": [
    "#2\n",
    "i = 0\n",
    "while i < 6:\n",
    "    i += 1\n",
    "    if i == 3:\n",
    "        continue # nilai i=3 tidak akan di print dan perulangan dilanjutkan\n",
    "    print(i)"
   ]
  },
  {
   "cell_type": "code",
   "execution_count": 4,
   "metadata": {},
   "outputs": [
    {
     "name": "stdout",
     "output_type": "stream",
     "text": [
      "aku\n",
      "kamu\n"
     ]
    }
   ],
   "source": [
    "#3\n",
    "orang = [\"aku\", \"kamu\", \"dia\"] # assign list di variabel orang\n",
    "for x in orang:\n",
    "    print(x) \n",
    "    if x == \"kamu\":\n",
    "        break # perulangan berhenti saat x=\"kamu\""
   ]
  },
  {
   "cell_type": "code",
   "execution_count": 5,
   "metadata": {},
   "outputs": [
    {
     "name": "stdout",
     "output_type": "stream",
     "text": [
      "ani\n",
      "angel\n",
      "lelga\n",
      "prasetyo\n"
     ]
    }
   ],
   "source": [
    "#4\n",
    "nama = [\"ani\", \"angel\", \"lelga\", \"viki\", \"prasetyo\"]\n",
    "for x in nama:\n",
    "    if x == \"viki\":\n",
    "        continue # string \"viki\" tidak akan di print dan perulangan dilanjutkan\n",
    "    print(x)"
   ]
  },
  {
   "cell_type": "code",
   "execution_count": 6,
   "metadata": {},
   "outputs": [
    {
     "name": "stdout",
     "output_type": "stream",
     "text": [
      "0\n",
      "1\n",
      "2\n",
      "3\n",
      "4\n",
      "5\n",
      "2\n",
      "3\n",
      "4\n",
      "5\n"
     ]
    }
   ],
   "source": [
    "# range contoh 1\n",
    "for x in range (6):  # loop akan mengeksekusi iterasi dari 0 hingga 5\n",
    "    print(x) \n",
    "\n",
    "# range contoh 2\n",
    "for x in range (2, 6): # loop akan mengeksekusi iterasi dari 2 hingga 5\n",
    "    print(x)"
   ]
  },
  {
   "cell_type": "markdown",
   "metadata": {},
   "source": [
    "#### NOMOR 2"
   ]
  },
  {
   "cell_type": "code",
   "execution_count": 11,
   "metadata": {},
   "outputs": [
    {
     "name": "stdout",
     "output_type": "stream",
     "text": [
      "**********\n",
      "**********\n",
      "**********\n",
      "**********\n",
      "**********\n",
      "**********\n",
      "**********\n",
      "**********\n",
      "**********\n",
      "**********\n"
     ]
    }
   ],
   "source": [
    "angka = int(input(\"Masukkan angka: \")) # variabel untuk input angka\n",
    "if angka <= 0:\n",
    "    print(\"error\") # kasih syarat jika input angka negatif atau nol, maka output error\n",
    "else:\n",
    "    opsi = input(\"Pilih segitiga/persegi: \").lower() # memilih opsi dan dikondisikan dengan fungsi lower()\n",
    "    if opsi == 'segitiga':\n",
    "        for i in range(angka, 0, -1): # iterasi untuk bentuk segitiga\n",
    "            print('*' * i)\n",
    "    elif opsi == 'persegi':\n",
    "        for i in range(angka): # iterasi untuk bentuk persegi\n",
    "            print('*' * angka) \n",
    "    else:\n",
    "        print(\"error\") # error keluar apabila input opsi selain persegi/segitiga\n",
    "\n",
    "#n=10, persegi"
   ]
  },
  {
   "cell_type": "code",
   "execution_count": null,
   "metadata": {},
   "outputs": [],
   "source": []
  }
 ],
 "metadata": {
  "kernelspec": {
   "display_name": "pengpro",
   "language": "python",
   "name": "python3"
  },
  "language_info": {
   "codemirror_mode": {
    "name": "ipython",
    "version": 3
   },
   "file_extension": ".py",
   "mimetype": "text/x-python",
   "name": "python",
   "nbconvert_exporter": "python",
   "pygments_lexer": "ipython3",
   "version": "3.11.4"
  }
 },
 "nbformat": 4,
 "nbformat_minor": 2
}
