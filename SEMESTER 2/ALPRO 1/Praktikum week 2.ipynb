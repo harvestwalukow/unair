{
 "cells": [
  {
   "cell_type": "markdown",
   "metadata": {},
   "source": [
    "## PRAKTIKUM 2 PEMROSESAN DATA NUMERIK"
   ]
  },
  {
   "cell_type": "markdown",
   "metadata": {},
   "source": [
    "- Nama: Harvest Walukow\n",
    "- NIM: 164231104"
   ]
  },
  {
   "cell_type": "markdown",
   "metadata": {},
   "source": [
    "### Percobaan"
   ]
  },
  {
   "cell_type": "code",
   "execution_count": 2,
   "metadata": {},
   "outputs": [],
   "source": [
    "import math"
   ]
  },
  {
   "cell_type": "code",
   "execution_count": 3,
   "metadata": {},
   "outputs": [
    {
     "name": "stdout",
     "output_type": "stream",
     "text": [
      "5\n",
      "900\n",
      "1\n",
      "9\n"
     ]
    }
   ],
   "source": [
    "x = min (5, 10) # mencari nilai x minimum\n",
    "print (x)\n",
    "\n",
    "y = max (100, 900) # mencari nilai y maksimum\n",
    "print (y)\n",
    "\n",
    "a = (1, 5, 3, 9)\n",
    "minimal = min(a) # mencari nilai minimum dari list bilangan a\n",
    "print (minimal)\n",
    "maximal = max(a) # mencari nilai maksimum dari list bilangan \n",
    "print (maximal)"
   ]
  },
  {
   "cell_type": "code",
   "execution_count": 4,
   "metadata": {},
   "outputs": [
    {
     "name": "stdout",
     "output_type": "stream",
     "text": [
      "64\n"
     ]
    }
   ],
   "source": [
    "x = pow (4, 3) # hasil 4 dipangkatkan 3\n",
    "print(x)"
   ]
  },
  {
   "cell_type": "code",
   "execution_count": 5,
   "metadata": {},
   "outputs": [
    {
     "name": "stdout",
     "output_type": "stream",
     "text": [
      "22\n"
     ]
    }
   ],
   "source": [
    "a = (1, 2, 3, 4, 5)\n",
    "x = sum (a, 7) # jumlah setiap bilangan a ditambah 7\n",
    "\n",
    "print(x)"
   ]
  },
  {
   "cell_type": "code",
   "execution_count": 6,
   "metadata": {},
   "outputs": [
    {
     "name": "stdout",
     "output_type": "stream",
     "text": [
      "3.0\n",
      "5.0\n",
      "4.0\n"
     ]
    }
   ],
   "source": [
    "print (math.sqrt(9))\n",
    "print (math.sqrt(25))\n",
    "print (math.sqrt(16))\n",
    "\n",
    "# menggunakan library math yang telah import untuk mencari akar (sqrt)"
   ]
  },
  {
   "cell_type": "markdown",
   "metadata": {},
   "source": [
    "## Tugas Praktikum"
   ]
  },
  {
   "cell_type": "markdown",
   "metadata": {},
   "source": [
    "### Nomor 1"
   ]
  },
  {
   "cell_type": "code",
   "execution_count": 7,
   "metadata": {},
   "outputs": [
    {
     "name": "stdout",
     "output_type": "stream",
     "text": [
      "Faktor dari 15 adalah: [1, 3, 5, 15]\n"
     ]
    }
   ],
   "source": [
    "number = int(input(\"Masukkan angka: \"))\n",
    "faktor = []\n",
    "\n",
    "for i in range(1, number + 1):\n",
    "    if number % i == 0:\n",
    "        faktor.append(i)\n",
    "\n",
    "print(\"Faktor dari\", number, \"adalah:\", faktor)"
   ]
  },
  {
   "cell_type": "markdown",
   "metadata": {},
   "source": [
    "### Nomor 2"
   ]
  },
  {
   "cell_type": "code",
   "execution_count": 16,
   "metadata": {},
   "outputs": [
    {
     "name": "stdout",
     "output_type": "stream",
     "text": [
      "Luas = 153.93804002589985, Keliling = 43.982297150257104 \n"
     ]
    }
   ],
   "source": [
    "def lingkaran(r):\n",
    "    luas=math.pi*r**2\n",
    "    keliling=math.pi*2*r\n",
    "    return print(f\"Luas = {luas}, Keliling = {keliling} \")\n",
    "\n",
    "lingkaran(7)"
   ]
  },
  {
   "cell_type": "markdown",
   "metadata": {},
   "source": [
    "### Nomor 3"
   ]
  },
  {
   "cell_type": "code",
   "execution_count": 9,
   "metadata": {},
   "outputs": [
    {
     "data": {
      "text/plain": [
       "(0.8660254037844386, 0.5000000000000001, 1.7320508075688767)"
      ]
     },
     "execution_count": 9,
     "metadata": {},
     "output_type": "execute_result"
    }
   ],
   "source": [
    "def sudut(x):\n",
    "    x_derajat = math.radians(x)\n",
    "\n",
    "    sin_x = math.sin(x_derajat)\n",
    "    cos_x = math.cos(x_derajat)\n",
    "    tan_x = math.tan(x_derajat)\n",
    "    return sin_x, cos_x, tan_x\n",
    "\n",
    "sudut(60)\n"
   ]
  },
  {
   "cell_type": "markdown",
   "metadata": {},
   "source": [
    "### Nomor 4"
   ]
  },
  {
   "cell_type": "code",
   "execution_count": 10,
   "metadata": {},
   "outputs": [
    {
     "name": "stdout",
     "output_type": "stream",
     "text": [
      "TypeError\n"
     ]
    }
   ],
   "source": [
    "try:\n",
    "    number = int(input(\"Masukkan angka: \"))\n",
    "    logaritma = math.log(number) / math.log(10)\n",
    "    if logaritma <= 0:\n",
    "        print(\"TypeError\")\n",
    "    else:\n",
    "        print(logaritma)\n",
    "except ValueError:\n",
    "    print(\"TypeError\")\n"
   ]
  },
  {
   "cell_type": "markdown",
   "metadata": {},
   "source": [
    "### Nomor 5"
   ]
  },
  {
   "cell_type": "code",
   "execution_count": 11,
   "metadata": {},
   "outputs": [
    {
     "name": "stdout",
     "output_type": "stream",
     "text": [
      "1\n"
     ]
    }
   ],
   "source": [
    "def faktorial(x):\n",
    "    return math.factorial(x)\n",
    "\n",
    "print(faktorial(0))"
   ]
  }
 ],
 "metadata": {
  "kernelspec": {
   "display_name": "Python 3",
   "language": "python",
   "name": "python3"
  },
  "language_info": {
   "codemirror_mode": {
    "name": "ipython",
    "version": 3
   },
   "file_extension": ".py",
   "mimetype": "text/x-python",
   "name": "python",
   "nbconvert_exporter": "python",
   "pygments_lexer": "ipython3",
   "version": "3.6.13"
  }
 },
 "nbformat": 4,
 "nbformat_minor": 2
}
